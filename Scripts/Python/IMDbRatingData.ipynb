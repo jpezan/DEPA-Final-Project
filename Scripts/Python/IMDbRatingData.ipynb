{
  "nbformat": 4,
  "nbformat_minor": 0,
  "metadata": {
    "colab": {
      "name": "IMDbRatingData.ipynb",
      "provenance": [],
      "collapsed_sections": []
    },
    "kernelspec": {
      "name": "python3",
      "display_name": "Python 3"
    },
    "language_info": {
      "name": "python"
    }
  },
  "cells": [
    {
      "cell_type": "markdown",
      "source": [
        "IMDb API Web Scraping"
      ],
      "metadata": {
        "id": "H9vSYYCpBCiQ"
      }
    },
    {
      "cell_type": "code",
      "metadata": {
        "colab": {
          "base_uri": "https://localhost:8080/"
        },
        "id": "UB9UIWxXN4MQ",
        "outputId": "bfb0ff65-b342-4a43-d8f5-6f46b7751207"
      },
      "source": [
        "pip install IMDbPY"
      ],
      "execution_count": null,
      "outputs": [
        {
          "output_type": "stream",
          "name": "stdout",
          "text": [
            "Collecting IMDbPY\n",
            "  Downloading IMDbPY-2021.4.18-py3-none-any.whl (298 kB)\n",
            "\u001b[?25l\r\u001b[K     |█                               | 10 kB 22.8 MB/s eta 0:00:01\r\u001b[K     |██▏                             | 20 kB 30.1 MB/s eta 0:00:01\r\u001b[K     |███▎                            | 30 kB 16.3 MB/s eta 0:00:01\r\u001b[K     |████▍                           | 40 kB 11.9 MB/s eta 0:00:01\r\u001b[K     |█████▌                          | 51 kB 5.4 MB/s eta 0:00:01\r\u001b[K     |██████▋                         | 61 kB 5.6 MB/s eta 0:00:01\r\u001b[K     |███████▊                        | 71 kB 5.4 MB/s eta 0:00:01\r\u001b[K     |████████▉                       | 81 kB 6.0 MB/s eta 0:00:01\r\u001b[K     |█████████▉                      | 92 kB 5.9 MB/s eta 0:00:01\r\u001b[K     |███████████                     | 102 kB 5.2 MB/s eta 0:00:01\r\u001b[K     |████████████                    | 112 kB 5.2 MB/s eta 0:00:01\r\u001b[K     |█████████████▏                  | 122 kB 5.2 MB/s eta 0:00:01\r\u001b[K     |██████████████▎                 | 133 kB 5.2 MB/s eta 0:00:01\r\u001b[K     |███████████████▍                | 143 kB 5.2 MB/s eta 0:00:01\r\u001b[K     |████████████████▌               | 153 kB 5.2 MB/s eta 0:00:01\r\u001b[K     |█████████████████▋              | 163 kB 5.2 MB/s eta 0:00:01\r\u001b[K     |██████████████████▋             | 174 kB 5.2 MB/s eta 0:00:01\r\u001b[K     |███████████████████▊            | 184 kB 5.2 MB/s eta 0:00:01\r\u001b[K     |████████████████████▉           | 194 kB 5.2 MB/s eta 0:00:01\r\u001b[K     |██████████████████████          | 204 kB 5.2 MB/s eta 0:00:01\r\u001b[K     |███████████████████████         | 215 kB 5.2 MB/s eta 0:00:01\r\u001b[K     |████████████████████████▏       | 225 kB 5.2 MB/s eta 0:00:01\r\u001b[K     |█████████████████████████▎      | 235 kB 5.2 MB/s eta 0:00:01\r\u001b[K     |██████████████████████████▍     | 245 kB 5.2 MB/s eta 0:00:01\r\u001b[K     |███████████████████████████▍    | 256 kB 5.2 MB/s eta 0:00:01\r\u001b[K     |████████████████████████████▌   | 266 kB 5.2 MB/s eta 0:00:01\r\u001b[K     |█████████████████████████████▋  | 276 kB 5.2 MB/s eta 0:00:01\r\u001b[K     |██████████████████████████████▊ | 286 kB 5.2 MB/s eta 0:00:01\r\u001b[K     |███████████████████████████████▉| 296 kB 5.2 MB/s eta 0:00:01\r\u001b[K     |████████████████████████████████| 298 kB 5.2 MB/s \n",
            "\u001b[?25hRequirement already satisfied: SQLAlchemy in /usr/local/lib/python3.7/dist-packages (from IMDbPY) (1.4.27)\n",
            "Requirement already satisfied: lxml in /usr/local/lib/python3.7/dist-packages (from IMDbPY) (4.2.6)\n",
            "Requirement already satisfied: importlib-metadata in /usr/local/lib/python3.7/dist-packages (from SQLAlchemy->IMDbPY) (4.8.2)\n",
            "Requirement already satisfied: greenlet!=0.4.17 in /usr/local/lib/python3.7/dist-packages (from SQLAlchemy->IMDbPY) (1.1.2)\n",
            "Requirement already satisfied: zipp>=0.5 in /usr/local/lib/python3.7/dist-packages (from importlib-metadata->SQLAlchemy->IMDbPY) (3.6.0)\n",
            "Requirement already satisfied: typing-extensions>=3.6.4 in /usr/local/lib/python3.7/dist-packages (from importlib-metadata->SQLAlchemy->IMDbPY) (3.10.0.2)\n",
            "Installing collected packages: IMDbPY\n",
            "Successfully installed IMDbPY-2021.4.18\n"
          ]
        }
      ]
    },
    {
      "cell_type": "code",
      "metadata": {
        "colab": {
          "base_uri": "https://localhost:8080/"
        },
        "id": "IRuvwiFGONAB",
        "outputId": "7c74c122-9613-4ae1-dbe9-47939fcdb4a6"
      },
      "source": [
        "import imdb\n",
        "ia = imdb.IMDb()\n",
        "print(dir(ia))"
      ],
      "execution_count": null,
      "outputs": [
        {
          "output_type": "stream",
          "name": "stdout",
          "text": [
            "['__class__', '__delattr__', '__dict__', '__dir__', '__doc__', '__eq__', '__format__', '__ge__', '__getattribute__', '__gt__', '__hash__', '__init__', '__init_subclass__', '__le__', '__lt__', '__module__', '__ne__', '__new__', '__reduce__', '__reduce_ex__', '__repr__', '__setattr__', '__sizeof__', '__str__', '__subclasshook__', '__weakref__', '_defModFunct', '_getRefs', '_get_infoset', '_get_keyword', '_get_list_content', '_get_movie_list', '_get_real_characterID', '_get_real_companyID', '_get_real_movieID', '_get_real_personID', '_get_search_content', '_get_search_movie_advanced_content', '_get_top_bottom_movies', '_http_logger', '_keywordsResults', '_mdparse', '_normalize_characterID', '_normalize_companyID', '_normalize_movieID', '_normalize_personID', '_purge_seasons_data', '_reraise_exceptions', '_results', '_retrieve', '_searchIMDb', '_search_character', '_search_company', '_search_episode', '_search_keyword', '_search_movie', '_search_movie_advanced', '_search_person', 'accessSystem', 'character2imdbID', 'compProxy', 'company2imdbID', 'del_cookies', 'do_adult_search', 'get_bottom100_movies', 'get_character', 'get_character_infoset', 'get_company', 'get_company_infoset', 'get_company_main', 'get_episode', 'get_imdbCharacterID', 'get_imdbCompanyID', 'get_imdbID', 'get_imdbMovieID', 'get_imdbPersonID', 'get_imdbURL', 'get_keyword', 'get_movie', 'get_movie_airing', 'get_movie_akas', 'get_movie_alternate_versions', 'get_movie_awards', 'get_movie_connections', 'get_movie_crazy_credits', 'get_movie_critic_reviews', 'get_movie_episodes', 'get_movie_external_reviews', 'get_movie_external_sites', 'get_movie_faqs', 'get_movie_full_credits', 'get_movie_goofs', 'get_movie_infoset', 'get_movie_keywords', 'get_movie_list', 'get_movie_locations', 'get_movie_main', 'get_movie_misc_sites', 'get_movie_news', 'get_movie_official_sites', 'get_movie_parents_guide', 'get_movie_photo_sites', 'get_movie_plot', 'get_movie_quotes', 'get_movie_recommendations', 'get_movie_release_dates', 'get_movie_release_info', 'get_movie_reviews', 'get_movie_sound_clips', 'get_movie_soundtrack', 'get_movie_synopsis', 'get_movie_taglines', 'get_movie_technical', 'get_movie_trivia', 'get_movie_tv_schedule', 'get_movie_video_clips', 'get_movie_vote_details', 'get_person', 'get_person_awards', 'get_person_biography', 'get_person_filmography', 'get_person_genres_links', 'get_person_infoset', 'get_person_keywords_links', 'get_person_main', 'get_person_news', 'get_person_official_sites', 'get_person_other_works', 'get_person_publicity', 'get_popular100_movies', 'get_popular100_tv', 'get_proxy', 'get_special_methods', 'get_top250_indian_movies', 'get_top250_movies', 'get_top250_tv', 'listProxy', 'mProxy', 'name2imdbID', 'new_character', 'new_company', 'new_movie', 'new_person', 'pProxy', 'scompProxy', 'search_character', 'search_company', 'search_episode', 'search_keyword', 'search_movie', 'search_movie_advanced', 'search_person', 'set_cookies', 'set_imdb_urls', 'set_proxy', 'set_timeout', 'skProxy', 'smProxy', 'smaProxy', 'spProxy', 'title2imdbID', 'topBottomProxy', 'update', 'update_series_seasons', 'urlOpener', 'urls']\n"
          ]
        }
      ]
    },
    {
      "cell_type": "code",
      "source": [
        "import numpy as np\n",
        "import pandas as pd\n",
        "import requests"
      ],
      "metadata": {
        "id": "Mft74FI4AyWS"
      },
      "execution_count": null,
      "outputs": []
    },
    {
      "cell_type": "markdown",
      "metadata": {
        "id": "zyVvjr4kOm-q"
      },
      "source": [
        "TOP 250 MOVIES"
      ]
    },
    {
      "cell_type": "code",
      "metadata": {
        "colab": {
          "base_uri": "https://localhost:8080/"
        },
        "id": "aNu5us7nOQHF",
        "outputId": "94cfa782-7b87-4dc2-9825-0bb68aa5971c"
      },
      "source": [
        "top250_mov = ia.get_top250_movies()\n",
        "for movie in top250_mov:\n",
        "    print(movie['title'], movie['rating'], movie['year'])"
      ],
      "execution_count": null,
      "outputs": [
        {
          "output_type": "stream",
          "name": "stdout",
          "text": [
            "The Shawshank Redemption 9.2 1994\n",
            "The Godfather 9.1 1972\n",
            "The Godfather: Part II 9.0 1974\n",
            "The Dark Knight 9.0 2008\n",
            "12 Angry Men 8.9 1957\n",
            "Schindler's List 8.9 1993\n",
            "The Lord of the Rings: The Return of the King 8.9 2003\n",
            "Pulp Fiction 8.8 1994\n",
            "The Good, the Bad and the Ugly 8.8 1966\n",
            "The Lord of the Rings: The Fellowship of the Ring 8.8 2001\n",
            "Fight Club 8.8 1999\n",
            "Forrest Gump 8.7 1994\n",
            "Inception 8.7 2010\n",
            "The Lord of the Rings: The Two Towers 8.7 2002\n",
            "Star Wars: Episode V - The Empire Strikes Back 8.7 1980\n",
            "The Matrix 8.6 1999\n",
            "Goodfellas 8.6 1990\n",
            "One Flew Over the Cuckoo's Nest 8.6 1975\n",
            "Seven Samurai 8.6 1954\n",
            "Se7en 8.6 1995\n",
            "The Silence of the Lambs 8.6 1991\n",
            "City of God 8.6 2002\n",
            "Life Is Beautiful 8.6 1997\n",
            "It's a Wonderful Life 8.6 1946\n",
            "Saving Private Ryan 8.6 1998\n",
            "Star Wars: Episode IV - A New Hope 8.6 1977\n",
            "Interstellar 8.5 2014\n",
            "Spirited Away 8.5 2001\n",
            "The Green Mile 8.5 1999\n",
            "Parasite 8.5 2019\n",
            "Léon: The Professional 8.5 1994\n",
            "Hara-Kiri 8.5 1962\n",
            "The Pianist 8.5 2002\n",
            "Terminator 2: Judgment Day 8.5 1991\n",
            "Back to the Future 8.5 1985\n",
            "The Usual Suspects 8.5 1995\n",
            "Psycho 8.5 1960\n",
            "The Lion King 8.5 1994\n",
            "Modern Times 8.5 1936\n",
            "American History X 8.5 1998\n",
            "Grave of the Fireflies 8.5 1988\n",
            "City Lights 8.5 1931\n",
            "Whiplash 8.5 2014\n",
            "Gladiator 8.5 2000\n",
            "The Departed 8.5 2006\n",
            "The Intouchables 8.5 2011\n",
            "The Prestige 8.5 2006\n",
            "Casablanca 8.4 1942\n",
            "Once Upon a Time in the West 8.4 1968\n",
            "Rear Window 8.4 1954\n",
            "Cinema Paradiso 8.4 1988\n",
            "Alien 8.4 1979\n",
            "Apocalypse Now 8.4 1979\n",
            "Memento 8.4 2000\n",
            "Indiana Jones and the Raiders of the Lost Ark 8.4 1981\n",
            "The Great Dictator 8.4 1940\n",
            "Django Unchained 8.4 2012\n",
            "The Lives of Others 8.4 2006\n",
            "Paths of Glory 8.4 1957\n",
            "Sunset Blvd. 8.4 1950\n",
            "WALL·E 8.4 2008\n",
            "Avengers: Infinity War 8.4 2018\n",
            "Witness for the Prosecution 8.4 1957\n",
            "The Shining 8.4 1980\n",
            "Spider-Man: Into the Spider-Verse 8.4 2018\n",
            "Dr. Strangelove or: How I Learned to Stop Worrying and Love the Bomb 8.4 1964\n",
            "Princess Mononoke 8.3 1997\n",
            "Oldboy 8.3 2003\n",
            "Joker 8.3 2019\n",
            "Your Name. 8.3 2016\n",
            "Coco 8.3 2017\n",
            "The Dark Knight Rises 8.3 2012\n",
            "Aliens 8.3 1986\n",
            "Once Upon a Time in America 8.3 1984\n",
            "Avengers: Endgame 8.3 2019\n",
            "Capernaum 8.3 2018\n",
            "Das Boot 8.3 1981\n",
            "High and Low 8.3 1963\n",
            "3 Idiots 8.3 2009\n",
            "Toy Story 8.3 1995\n",
            "American Beauty 8.3 1999\n",
            "Amadeus 8.3 1984\n",
            "Braveheart 8.3 1995\n",
            "Hamilton 8.3 2020\n",
            "Inglourious Basterds 8.3 2009\n",
            "Good Will Hunting 8.3 1997\n",
            "Star Wars: Episode VI - Return of the Jedi 8.3 1983\n",
            "2001: A Space Odyssey 8.3 1968\n",
            "Reservoir Dogs 8.3 1992\n",
            "Come and See 8.3 1985\n",
            "M 8.3 1931\n",
            "Like Stars on Earth 8.3 2007\n",
            "Vertigo 8.3 1958\n",
            "Citizen Kane 8.3 1941\n",
            "The Hunt 8.3 2012\n",
            "Requiem for a Dream 8.3 2000\n",
            "Singin' in the Rain 8.3 1952\n",
            "North by Northwest 8.3 1959\n",
            "Eternal Sunshine of the Spotless Mind 8.3 2004\n",
            "Ikiru 8.3 1952\n",
            "Bicycle Thieves 8.3 1948\n",
            "Lawrence of Arabia 8.3 1962\n",
            "The Kid 8.2 1921\n",
            "Full Metal Jacket 8.2 1987\n",
            "Dangal 8.2 2016\n",
            "The Apartment 8.2 1960\n",
            "Incendies 8.2 2010\n",
            "The Father 8.2 2020\n",
            "Metropolis 8.2 1927\n",
            "Double Indemnity 8.2 1944\n",
            "A Clockwork Orange 8.2 1971\n",
            "Taxi Driver 8.2 1976\n",
            "A Separation 8.2 2011\n",
            "The Sting 8.2 1973\n",
            "Scarface 8.2 1983\n",
            "Pather Panchali 8.2 1955\n",
            "Snatch 8.2 2000\n",
            "1917 8.2 2019\n",
            "Amélie 8.2 2001\n",
            "To Kill a Mockingbird 8.2 1962\n",
            "Toy Story 3 8.2 2010\n",
            "For a Few Dollars More 8.2 1965\n",
            "Up 8.2 2009\n",
            "Indiana Jones and the Last Crusade 8.2 1989\n",
            "Heat 8.2 1995\n",
            "L.A. Confidential 8.2 1997\n",
            "Jai Bhim 8.2 2021\n",
            "Yojimbo 8.2 1961\n",
            "Die Hard 8.2 1988\n",
            "Ran 8.2 1985\n",
            "Rashomon 8.2 1950\n",
            "Green Book 8.2 2018\n",
            "Downfall 8.2 2004\n",
            "Monty Python and the Holy Grail 8.2 1975\n",
            "All About Eve 8.2 1950\n",
            "Some Like It Hot 8.2 1959\n",
            "Batman Begins 8.2 2005\n",
            "Unforgiven 8.2 1992\n",
            "Children of Heaven 8.2 1997\n",
            "Howl's Moving Castle 8.2 2004\n",
            "The Wolf of Wall Street 8.2 2013\n",
            "Judgment at Nuremberg 8.2 1961\n",
            "The Great Escape 8.2 1963\n",
            "There Will Be Blood 8.2 2007\n",
            "Casino 8.2 1995\n",
            "The Treasure of the Sierra Madre 8.2 1948\n",
            "Pan's Labyrinth 8.1 2006\n",
            "A Beautiful Mind 8.1 2001\n",
            "The Secret in Their Eyes 8.1 2009\n",
            "Raging Bull 8.1 1980\n",
            "Dersu Uzala 8.1 1975\n",
            "Chinatown 8.1 1974\n",
            "My Neighbor Totoro 8.1 1988\n",
            "Lock, Stock and Two Smoking Barrels 8.1 1998\n",
            "Shutter Island 8.1 2010\n",
            "No Country for Old Men 8.1 2007\n",
            "The Gold Rush 8.1 1925\n",
            "Dial M for Murder 8.1 1954\n",
            "The Thing 8.1 1982\n",
            "The Seventh Seal 8.1 1957\n",
            "Three Billboards Outside Ebbing, Missouri 8.1 2017\n",
            "The Elephant Man 8.1 1980\n",
            "Klaus 8.1 2019\n",
            "The Sixth Sense 8.1 1999\n",
            "Wild Strawberries 8.1 1957\n",
            "The Truman Show 8.1 1998\n",
            "The Third Man 8.1 1949\n",
            "Jurassic Park 8.1 1993\n",
            "Dune 8.1 2021\n",
            "Memories of Murder 8.1 2003\n",
            "V for Vendetta 8.1 2005\n",
            "Blade Runner 8.1 1982\n",
            "Trainspotting 8.1 1996\n",
            "Inside Out 8.1 2015\n",
            "The Bridge on the River Kwai 8.1 1957\n",
            "Fargo 8.1 1996\n",
            "Warrior 8.1 2011\n",
            "Finding Nemo 8.1 2003\n",
            "Kill Bill: Vol. 1 8.1 2003\n",
            "Gone with the Wind 8.1 1939\n",
            "Tokyo Story 8.1 1953\n",
            "On the Waterfront 8.1 1954\n",
            "My Father and My Son 8.1 2005\n",
            "Wild Tales 8.1 2014\n",
            "Stalker 8.1 1979\n",
            "The Deer Hunter 8.1 1978\n",
            "Z 8.1 1969\n",
            "Prisoners 8.1 2013\n",
            "The Grand Budapest Hotel 8.1 2014\n",
            "Sherlock Jr. 8.1 1924\n",
            "The General 8.1 1926\n",
            "Gran Torino 8.1 2008\n",
            "Persona 8.1 1966\n",
            "Before Sunrise 8.1 1995\n",
            "Mary and Max 8.1 2009\n",
            "Catch Me If You Can 8.1 2002\n",
            "Mr. Smith Goes to Washington 8.1 1939\n",
            "In the Name of the Father 8.1 1993\n",
            "Barry Lyndon 8.1 1975\n",
            "Room 8.1 2015\n",
            "Gone Girl 8.1 2014\n",
            "Hacksaw Ridge 8.1 2016\n",
            "The Passion of Joan of Arc 8.1 1928\n",
            "Andhadhun 8.1 2018\n",
            "Ford v Ferrari 8.1 2019\n",
            "12 Years a Slave 8.1 2013\n",
            "To Be or Not to Be 8.1 1942\n",
            "The Big Lebowski 8.1 1998\n",
            "Autumn Sonata 8.1 1978\n",
            "Dead Poets Society 8.1 1989\n",
            "How to Train Your Dragon 8.1 2010\n",
            "Mad Max: Fury Road 8.1 2015\n",
            "Ben-Hur 8.1 1959\n",
            "Harry Potter and the Deathly Hallows: Part 2 8.1 2011\n",
            "Million Dollar Baby 8.1 2004\n",
            "The Wages of Fear 8.1 1953\n",
            "The Handmaiden 8.1 2016\n",
            "Stand by Me 8.1 1986\n",
            "Network 8.1 1976\n",
            "Logan 8.1 2017\n",
            "Gangs of Wasseypur 8.1 2012\n",
            "Cool Hand Luke 8.0 1967\n",
            "Hachi: A Dog's Tale 8.0 2009\n",
            "La Haine 8.0 1995\n",
            "The 400 Blows 8.0 1959\n",
            "A Silent Voice: The Movie 8.0 2016\n",
            "Platoon 8.0 1986\n",
            "Spotlight 8.0 2015\n",
            "Monsters, Inc. 8.0 2001\n",
            "Rebecca 8.0 1940\n",
            "Life of Brian 8.0 1979\n",
            "Hotel Rwanda 8.0 2004\n",
            "In the Mood for Love 8.0 2000\n",
            "The Bandit 8.0 1996\n",
            "Rush 8.0 2013\n",
            "Into the Wild 8.0 2007\n",
            "Rocky 8.0 1976\n",
            "Amores perros 8.0 2000\n",
            "Nausicaä of the Valley of the Wind 8.0 1984\n",
            "Andrei Rublev 8.0 1966\n",
            "It Happened One Night 8.0 1934\n",
            "Before Sunset 8.0 2004\n",
            "Fanny and Alexander 8.0 1982\n",
            "Neon Genesis Evangelion: The End of Evangelion 8.0 1997\n",
            "The Battle of Algiers 8.0 1966\n",
            "Nights of Cabiria 8.0 1957\n",
            "The Princess Bride 8.0 1987\n",
            "Paris, Texas 8.0 1984\n",
            "96 8.0 2018\n",
            "Drishyam 2 8.0 2021\n"
          ]
        }
      ]
    },
    {
      "cell_type": "code",
      "metadata": {
        "colab": {
          "base_uri": "https://localhost:8080/"
        },
        "id": "g5AEZDwBOjwb",
        "outputId": "e945952a-4dad-42c3-cd69-36e56f2534c3"
      },
      "source": [
        "mov = top250_mov[0]\n",
        "dict(mov)"
      ],
      "execution_count": null,
      "outputs": [
        {
          "output_type": "execute_result",
          "data": {
            "text/plain": [
              "{'canonical title': 'Shawshank Redemption, The',\n",
              " 'kind': 'movie',\n",
              " 'long imdb canonical title': 'Shawshank Redemption, The (1994)',\n",
              " 'long imdb title': 'The Shawshank Redemption (1994)',\n",
              " 'rating': 9.2,\n",
              " 'smart canonical title': 'Shawshank Redemption, The',\n",
              " 'smart long imdb canonical title': 'Shawshank Redemption, The (1994)',\n",
              " 'title': 'The Shawshank Redemption',\n",
              " 'top 250 rank': 1,\n",
              " 'votes': 2503444,\n",
              " 'year': 1994}"
            ]
          },
          "metadata": {},
          "execution_count": 12
        }
      ]
    },
    {
      "cell_type": "code",
      "metadata": {
        "id": "JguJ8VRmPAVC",
        "colab": {
          "base_uri": "https://localhost:8080/"
        },
        "outputId": "b72af380-994b-48ca-ab06-2cd4575e973d"
      },
      "source": [
        "newlist=[]\n",
        "for movie in top250_mov:\n",
        "    newlist.append(dict(movie))\n",
        "newlist.append(dict(movie))\n",
        "top250_mov_df = pd.DataFrame(newlist, columns=['rating', 'title', 'year'])\n",
        "print(top250_mov_df)"
      ],
      "execution_count": null,
      "outputs": [
        {
          "output_type": "stream",
          "name": "stdout",
          "text": [
            "     rating                     title  year\n",
            "0       9.2  The Shawshank Redemption  1994\n",
            "1       9.1             The Godfather  1972\n",
            "2       9.0    The Godfather: Part II  1974\n",
            "3       9.0           The Dark Knight  2008\n",
            "4       8.9              12 Angry Men  1957\n",
            "..      ...                       ...   ...\n",
            "246     8.0        The Princess Bride  1987\n",
            "247     8.0              Paris, Texas  1984\n",
            "248     8.0                        96  2018\n",
            "249     8.0                Drishyam 2  2021\n",
            "250     8.0                Drishyam 2  2021\n",
            "\n",
            "[251 rows x 3 columns]\n"
          ]
        }
      ]
    },
    {
      "cell_type": "markdown",
      "metadata": {
        "id": "GLrqWl4RPD7s"
      },
      "source": [
        "TOP 250 TV"
      ]
    },
    {
      "cell_type": "code",
      "metadata": {
        "colab": {
          "base_uri": "https://localhost:8080/"
        },
        "id": "EVdgHF0VPCRH",
        "outputId": "b3288646-065b-4341-94ff-d2706c2b087a"
      },
      "source": [
        "top250_tv = ia.get_top250_tv()\n",
        "for movie in top250_tv:\n",
        "    print(movie['title'], movie['rating'], movie['year'])"
      ],
      "execution_count": null,
      "outputs": [
        {
          "output_type": "stream",
          "name": "stdout",
          "text": [
            "Planet Earth II 9.5 2016\n",
            "Planet Earth 9.4 2006\n",
            "Breaking Bad 9.4 2008\n",
            "Band of Brothers 9.4 2001\n",
            "Chernobyl 9.3 2019\n",
            "The Wire 9.3 2002\n",
            "Blue Planet II 9.3 2017\n",
            "Our Planet 9.2 2019\n",
            "Cosmos: A Spacetime Odyssey 9.2 2014\n",
            "Avatar: The Last Airbender 9.2 2005\n",
            "Cosmos 9.2 1980\n",
            "The Sopranos 9.2 1999\n",
            "Game of Thrones 9.2 2011\n",
            "Rick and Morty 9.1 2013\n",
            "Arcane 9.1 2021\n",
            "The World at War 9.1 1973\n",
            "The Last Dance 9.1 2020\n",
            "Life 9.1 2009\n",
            "Fullmetal Alchemist: Brotherhood 9.0 2009\n",
            "Sherlock 9.0 2010\n",
            "The Vietnam War 9.0 2017\n",
            "Scam 1992: The Harshad Mehta Story 9.0 2020\n",
            "The Twilight Zone 9.0 1959\n",
            "The Blue Planet 9.0 2001\n",
            "Batman: The Animated Series 9.0 1992\n",
            "Human Planet 8.9 2011\n",
            "Firefly 8.9 2002\n",
            "Persona 8.9 2018\n",
            "Clarkson's Farm 8.9 2021\n",
            "Frozen Planet 8.9 2011\n",
            "Death Note 8.9 2006\n",
            "Dekalog 8.9 1989\n",
            "True Detective 8.9 2014\n",
            "Cowboy Bebop 8.9 1998\n",
            "The Civil War 8.9 1990\n",
            "Attack on Titan 8.9 2013\n",
            "Fargo 8.9 2014\n",
            "Hunter x Hunter 8.9 2011\n",
            "The Office 8.9 2005\n",
            "When They See Us 8.8 2019\n",
            "Africa 8.8 2013\n",
            "Apocalypse: The Second World War 8.8 2009\n",
            "Only Fools and Horses 8.8 1981\n",
            "Last Week Tonight with John Oliver 8.8 2014\n",
            "TVF Pitchers 8.8 2015\n",
            "Gravity Falls 8.8 2012\n",
            "Seinfeld 8.8 1989\n",
            "Das Boot 8.8 1985\n",
            "Monty Python's Flying Circus 8.8 1969\n",
            "Nathan for You 8.8 2013\n",
            "Friends 8.8 1994\n",
            "Dexter: New Blood 8.8 2021\n",
            "Pride and Prejudice 8.8 1995\n",
            "Black Mirror 8.7 2011\n",
            "Twin Peaks 8.7 1990\n",
            "Over the Garden Wall 8.7 2014\n",
            "Kota Factory 8.7 2019\n",
            "Fawlty Towers 8.7 1975\n",
            "Narcos 8.7 2015\n",
            "Blackadder Goes Forth 8.7 1989\n",
            "It's Always Sunny in Philadelphia 8.7 2005\n",
            "Ted Lasso 8.7 2020\n",
            "Better Call Saul 8.7 2015\n",
            "Freaks and Geeks 8.7 1999\n",
            "Chappelle's Show 8.7 2003\n",
            "The Mandalorian 8.7 2019\n",
            "Peaky Blinders 8.7 2013\n",
            "The West Wing 8.7 1999\n",
            "Dark 8.7 2017\n",
            "Steins;Gate 8.7 2011\n",
            "One Punch Man 8.7 2015\n",
            "BoJack Horseman 8.7 2014\n",
            "Dragon Ball Z 8.7 1989\n",
            "Curb Your Enthusiasm 8.7 2000\n",
            "Rome 8.7 2005\n",
            "Dragon Ball Z 8.7 1989\n",
            "I, Claudius 8.7 1976\n",
            "Vinland Saga 8.7 2019\n",
            "Oz 8.7 1997\n",
            "Succession 8.7 2018\n",
            "Invincible 8.7 2021\n",
            "Fleabag 8.7 2016\n",
            "Leyla and Mecnun 8.7 2011\n",
            "Arrested Development 8.7 2003\n",
            "Stranger Things 8.6 2016\n",
            "Six Feet Under 8.6 2001\n",
            "The Marvelous Mrs. Maisel 8.6 2017\n",
            "South Park 8.6 1997\n",
            "The Adventures of Sherlock Holmes 8.6 1984\n",
            "One Piece 8.6 1999\n",
            "The Boys 8.6 2019\n",
            "House of Cards 8.6 2013\n",
            "Aspirants 8.6 2021\n",
            "Justice League Unlimited 8.6 2004\n",
            "Battlestar Galactica 8.6 2004\n",
            "The Thick of It 8.6 2005\n",
            "House 8.6 2004\n",
            "The Simpsons 8.6 1989\n",
            "The Jinx: The Life and Deaths of Robert Durst 8.6 2015\n",
            "The Shield 8.6 2002\n",
            "Berserk 8.6 1997\n",
            "The Crown 8.6 2016\n",
            "The Grand Tour 8.6 2016\n",
            "Downton Abbey 8.6 2010\n",
            "The Return of Sherlock Holmes 8.6 1986\n",
            "Line of Duty 8.6 2012\n",
            "It's a Sin 8.6 2021\n",
            "Mahabharat 8.6 1988\n",
            "Deadwood 8.6 2004\n",
            "Star Trek: The Next Generation 8.6 1987\n",
            "Top Gear 8.6 2002\n",
            "Atlanta 8.6 2016\n",
            "Ramayan 8.6 1987\n",
            "Haikyuu!! 8.6 2014\n",
            "Lonesome Dove 8.6 1989\n",
            "Mad Men 8.6 2007\n",
            "The Bridge 8.6 2011\n",
            "Formula 1: Drive to Survive 8.6 2019\n",
            "Code Geass 8.6 2006\n",
            "Sarabhai V/S Sarabhai 8.6 2004\n",
            "Blackadder II 8.6 1986\n",
            "Parks and Recreation 8.6 2009\n",
            "Young Justice 8.6 2010\n",
            "Demon Slayer: Kimetsu no Yaiba 8.6 2019\n",
            "The X-Files 8.6 1993\n",
            "Peep Show 8.6 2003\n",
            "Friday Night Lights 8.6 2006\n",
            "Gullak 8.6 2019\n",
            "Dopesick 8.6 2021\n",
            "Gomorrah 8.6 2014\n",
            "Mindhunter 8.6 2017\n",
            "Monster 8.6 2004\n",
            "Jujutsu Kaisen 8.6 2020\n",
            "Battlestar Galactica 8.6 2003\n",
            "Westworld 8.6 2016\n",
            "This Is Us 8.6 2016\n",
            "Anne with an E 8.6 2017\n",
            "The Haunting of Hill House 8.6 2018\n",
            "Father Ted 8.6 1995\n",
            "Dexter 8.5 2006\n",
            "Blackadder the Third 8.5 1987\n",
            "The Bugs Bunny Show 8.5 1960\n",
            "Daredevil 8.5 2015\n",
            "Archer 8.5 2009\n",
            "The Queen's Gambit 8.5 2020\n",
            "Panchayat 8.5 2020\n",
            "The Newsroom 8.5 2012\n",
            "Crash Landing on You 8.5 2019\n",
            "Yes Minister 8.5 1980\n",
            "Behzat Ç.: Bir Ankara Polisiyesi 8.5 2010\n",
            "Rurouni Kenshin: Trust and Betrayal 8.5 1999\n",
            "QI 8.5 2003\n",
            "Yeh Meri Family 8.5 2018\n",
            "Poirot 8.5 1989\n",
            "Yellowstone 8.5 2018\n",
            "Through the Wormhole 8.5 2010\n",
            "Justified 8.5 2010\n",
            "Making a Murderer 8.5 2015\n",
            "The Family Man 8.5 2019\n",
            "Cobra Kai 8.5 2018\n",
            "North & South 8.5 2004\n",
            "Spaced 8.5 1999\n",
            "Mr. Bean 8.5 1990\n",
            "Justice League 8.5 2001\n",
            "The Eric Andre Show 8.5 2012\n",
            "What We Do in the Shadows 8.5 2016\n",
            "Neon Genesis Evangelion 8.5 1995\n",
            "Long Way Round 8.5 2004\n",
            "Naruto: Shippûden 8.5 2007\n",
            "From the Earth to the Moon 8.5 1998\n",
            "Samurai Champloo 8.5 2004\n",
            "Boardwalk Empire 8.5 2010\n",
            "Twin Peaks 8.5 2017\n",
            "Pose 8.5 2018\n",
            "Dragon Ball 8.5 1986\n",
            "Flight of the Conchords 8.5 2007\n",
            "Adventure Time 8.5 2010\n",
            "Mob Psycho 100 8.5 2016\n",
            "Dragon Ball 8.5 1995\n",
            "Black Sun 8.5 2017\n",
            "Yes, Prime Minister 8.5 1986\n",
            "Mr. Robot 8.5 2015\n",
            "Mystery Science Theater 3000 8.5 1988\n",
            "The IT Crowd 8.5 2006\n",
            "Coupling 8.5 2000\n",
            "Alfred Hitchcock Presents 8.5 1955\n",
            "Brass Eye 8.5 1997\n",
            "Letterkenny 8.5 2016\n",
            "Fullmetal Alchemist 8.5 2003\n",
            "Homicide: Life on the Street 8.5 1993\n",
            "Detectorists 8.5 2014\n",
            "Doctor Who 8.5 2005\n",
            "Endeavour 8.5 2012\n",
            "Skam 8.5 2015\n",
            "Silicon Valley 8.5 2014\n",
            "Impractical Jokers 8.5 2011\n",
            "Louie 8.5 2010\n",
            "Generation Kill 8.5 2008\n",
            "Hannibal 8.5 2013\n",
            "Shameless 8.5 2011\n",
            "The Expanse 8.5 2015\n",
            "Spartacus: Gods of the Arena 8.5 2011\n",
            "The Office 8.5 2001\n",
            "Mr Inbetween 8.5 2018\n",
            "Chef's Table 8.5 2015\n",
            "The Night Of 8.4 2016\n",
            "Ezel 8.4 2009\n",
            "Samurai Jack 8.4 2001\n",
            "Whose Line Is It Anyway? 8.4 1998\n",
            "Sons of Anarchy 8.4 2008\n",
            "I'm Alan Partridge 8.4 1997\n",
            "Your Lie in April 8.4 2014\n",
            "Big Little Lies 8.4 2017\n",
            "Spartacus 8.4 2010\n",
            "The Defiant Ones 8.4 2017\n",
            "Erased 8.4 2016\n",
            "My Brilliant Friend 8.4 2018\n",
            "Ethos 8.4 2020\n",
            "Black Books 8.4 2000\n",
            "Mare of Easttown 8.4 2021\n",
            "Harley Quinn 8.4 2019\n",
            "John Adams 8.4 2008\n",
            "Schitt's Creek 8.4 2015\n",
            "The Knick 8.4 2014\n",
            "Love, Death & Robots 8.4 2019\n",
            "It's Okay to Not Be Okay 8.4 2020\n",
            "Dr. Horrible's Sing-Along Blog 8.4 2008\n",
            "Community 8.4 2009\n",
            "Inside No. 9 8.4 2014\n",
            "The Punisher 8.4 2017\n",
            "Generation War 8.4 2013\n",
            "The New Batman Adventures 8.4 1997\n",
            "Delhi Crime 8.4 2019\n",
            "Horace and Pete 8.4 2016\n",
            "The Venture Bros. 8.4 2003\n",
            "Flames 8.4 2018\n",
            "The Prisoner 8.4 1967\n",
            "Futurama 8.4 1999\n",
            "Feud: Bette and Joan 8.4 2017\n",
            "Jesus of Nazareth 8.4 1977\n",
            "Ghost in the Shell: Stand Alone Complex 8.4 2002\n",
            "Luther 8.4 2010\n",
            "X-Men: The Animated Series 8.4 1992\n",
            "Wentworth 8.4 2013\n",
            "Scenes from a Marriage 8.4 1973\n",
            "Garth Marenghi's Darkplace 8.4 2004\n",
            "Vikings 8.4 2013\n",
            "Avrupa Yakasi 8.4 2004\n",
            "Guardian: The Lonely and Great God 8.4 2016\n",
            "Normal People 8.4 2020\n"
          ]
        }
      ]
    },
    {
      "cell_type": "code",
      "metadata": {
        "colab": {
          "base_uri": "https://localhost:8080/"
        },
        "id": "SDB4OEkVPKaG",
        "outputId": "679f0f40-45cd-45b1-c2b6-f31b5146e2d6"
      },
      "source": [
        "mov = top250_tv[0]\n",
        "dict(mov)"
      ],
      "execution_count": null,
      "outputs": [
        {
          "output_type": "execute_result",
          "data": {
            "text/plain": [
              "{'canonical title': 'Planet Earth II',\n",
              " 'kind': 'movie',\n",
              " 'long imdb canonical title': 'Planet Earth II (2016)',\n",
              " 'long imdb title': 'Planet Earth II (2016)',\n",
              " 'rating': 9.5,\n",
              " 'smart canonical title': 'Planet Earth II',\n",
              " 'smart long imdb canonical title': 'Planet Earth II (2016)',\n",
              " 'title': 'Planet Earth II',\n",
              " 'top tv 250 rank': 1,\n",
              " 'votes': 106733,\n",
              " 'year': 2016}"
            ]
          },
          "metadata": {},
          "execution_count": 6
        }
      ]
    },
    {
      "cell_type": "code",
      "metadata": {
        "id": "Y3880LpJPNwg"
      },
      "source": [
        "newlist=[]\n",
        "for movie in top250_tv:\n",
        "    newlist.append(dict(movie))\n",
        "newlist.append(dict(movie))\n",
        "top250_tv_df = pd.DataFrame(newlist, columns=['rating', 'title', 'year'])"
      ],
      "execution_count": null,
      "outputs": []
    },
    {
      "cell_type": "markdown",
      "metadata": {
        "id": "6K-iLwlIPYhU"
      },
      "source": [
        "TOP 100 MOVIES"
      ]
    },
    {
      "cell_type": "code",
      "metadata": {
        "colab": {
          "base_uri": "https://localhost:8080/"
        },
        "id": "eO14J5AdPV_R",
        "outputId": "8a56ef72-8a42-46bc-fa52-bc94130a7943"
      },
      "source": [
        "top100_mov = ia.get_popular100_movies()\n",
        "for movie in top100_mov:\n",
        "    print(movie['title'], movie['rating'], movie['year'])"
      ],
      "execution_count": null,
      "outputs": [
        {
          "output_type": "stream",
          "name": "stdout",
          "text": [
            "House of Gucci 7.0 2021\n",
            "The Power of the Dog 7.0 2021\n",
            "Spider-Man: No Way Home 0.0 2021\n",
            "The Last Duel 7.5 2021\n",
            "Ghostbusters: Afterlife 7.7 2021\n",
            "Dune 8.2 2021\n",
            "Encanto 7.6 2021\n",
            "Red Notice 6.4 2021\n",
            "tick, tick...BOOM! 7.7 2021\n",
            "The Matrix Resurrections 0.0 2021\n",
            "Shang-Chi and the Legend of the Ten Rings 7.6 2021\n",
            "No Time to Die 7.4 2021\n",
            "Venom: Let There Be Carnage 6.1 2021\n",
            "A Castle for Christmas 5.5 2021\n",
            "Resident Evil: Welcome to Raccoon City 5.6 2021\n",
            "A Boy Called Christmas 6.8 2021\n",
            "Eternals 6.8 2021\n",
            "Antim: The Final Truth 7.8 2021\n",
            "Bruised 6.1 2020\n",
            "Last Night in Soho 7.2 2021\n",
            "West Side Story 0.0 2021\n",
            "Licorice Pizza 8.6 2021\n",
            "Spencer 6.9 2021\n",
            "King Richard 7.6 2021\n",
            "National Lampoon's Christmas Vacation 7.6 1989\n",
            "8-Bit Christmas 6.7 2021\n",
            "Home Alone 7.6 1990\n",
            "Nightmare Alley 7.7 2021\n",
            "Belfast 7.6 2021\n",
            "Free Guy 7.2 2021\n",
            "Silent Night 5.7 2021\n",
            "The French Dispatch 7.5 2021\n",
            "Love Hard 6.3 2021\n",
            "Jai Bhim 9.5 2021\n",
            "The Harder They Fall 6.6 2021\n",
            "Love Actually 7.6 2003\n",
            "Single All the Way 6.3 2021\n",
            "Omicron 7.1 1963\n",
            "Home Sweet Home Alone 3.6 2021\n",
            "Finch 6.9 2021\n",
            "Don't Look Up 0.0 2021\n",
            "Sing 2 7.1 2021\n",
            "Jungle Cruise 6.6 2021\n",
            "14 Peaks: Nothing Is Impossible 8.2 2021\n",
            "Army of Thieves 6.4 2021\n",
            "Ghostbusters 7.8 1984\n",
            "Pig 6.9 2021\n",
            "Elf 7.0 2003\n",
            "The Santa Clause 6.5 1994\n",
            "Harry Potter and the Sorcerer's Stone 7.6 2001\n",
            "Dune 6.4 1984\n",
            "Black Widow 6.7 2021\n",
            "The Suicide Squad 7.3 2021\n",
            "365 Days 3.3 2020\n",
            "The Holiday 6.9 2006\n",
            "The Matrix 8.7 1999\n",
            "The Humans 6.2 2021\n",
            "Benedetta 6.7 2021\n",
            "How the Grinch Stole Christmas 6.2 2000\n",
            "South Park: Post COVID 7.8 2021\n",
            "The King's Man 0.0 2021\n",
            "Avengers: Endgame 8.4 2019\n",
            "Spider-Man 7.3 2002\n",
            "Die Hard 8.2 1988\n",
            "Clifford the Big Red Dog 6.0 2021\n",
            "The Batman 0.0 2022\n",
            "The Shawshank Redemption 9.3 1994\n",
            "Venom 6.7 2018\n",
            "Satyameva Jayate 2 5.8 2021\n",
            "West Side Story 7.5 1961\n",
            "Old 5.8 2021\n",
            "Knives Out 7.9 2019\n",
            "The Little Things 6.3 2021\n",
            "Rumble 0.0 2021\n",
            "Ron's Gone Wrong 7.1 2021\n",
            "Chhorii 7.2 2021\n",
            "Little Women 7.8 2019\n",
            "C'mon C'mon 8.1 2021\n",
            "The Green Knight 6.6 2021\n",
            "Cruella 7.4 2021\n",
            "Spoiled Brats 6.0 2021\n",
            "The Godfather 9.2 1972\n",
            "Jurassic World: Dominion 0.0 2022\n",
            "Parasite 8.6 2019\n",
            "Titane 6.7 2021\n",
            "Bob Biswas 7.2 2021\n",
            "Love 6.1 2015\n",
            "Interstellar 8.6 2014\n",
            "The Devil's Rain 5.1 1975\n",
            "Home Alone 2: Lost in New York 6.8 1992\n",
            "Father Christmas Is Back 4.5 2021\n",
            "Annie 6.6 1982\n",
            "Spider-Man 3 6.2 2007\n",
            "Black Friday 4.6 2021\n",
            "Spider-Man: Homecoming 7.4 2017\n",
            "Army of the Dead 5.8 2021\n",
            "White Christmas 7.6 1954\n",
            "The Grinch 6.4 2018\n",
            "A Christmas Story 7.9 1983\n",
            "The Amazing Spider-Man 6.9 2012\n"
          ]
        }
      ]
    },
    {
      "cell_type": "code",
      "metadata": {
        "colab": {
          "base_uri": "https://localhost:8080/"
        },
        "id": "8hy6ku1_PepG",
        "outputId": "55c4309c-f323-48f7-9e29-ebdcfbde9b25"
      },
      "source": [
        "mov = top100_mov[0]\n",
        "dict(mov)"
      ],
      "execution_count": null,
      "outputs": [
        {
          "output_type": "execute_result",
          "data": {
            "text/plain": [
              "{'canonical title': 'House of Gucci',\n",
              " 'kind': 'movie',\n",
              " 'long imdb canonical title': 'House of Gucci (2021)',\n",
              " 'long imdb title': 'House of Gucci (2021)',\n",
              " 'popular movies 100 rank': 1,\n",
              " 'rating': 7.0,\n",
              " 'smart canonical title': 'House of Gucci',\n",
              " 'smart long imdb canonical title': 'House of Gucci (2021)',\n",
              " 'title': 'House of Gucci',\n",
              " 'votes': 24800,\n",
              " 'year': 2021}"
            ]
          },
          "metadata": {},
          "execution_count": 9
        }
      ]
    },
    {
      "cell_type": "code",
      "metadata": {
        "id": "hDgxW706PmcS"
      },
      "source": [
        "newlist=[]\n",
        "for movie in top100_mov:\n",
        "    newlist.append(dict(movie))\n",
        "newlist.append(dict(movie))\n",
        "top100_mov_df = pd.DataFrame(newlist, columns=['rating', 'title', 'year'])"
      ],
      "execution_count": null,
      "outputs": []
    },
    {
      "cell_type": "markdown",
      "metadata": {
        "id": "1fOqeE48Pv9L"
      },
      "source": [
        "TOP 100 TV"
      ]
    },
    {
      "cell_type": "code",
      "metadata": {
        "colab": {
          "base_uri": "https://localhost:8080/"
        },
        "id": "efXvxFYKPuWs",
        "outputId": "57aa55ab-81d5-4db6-f5ce-25deaa1cbaf6"
      },
      "source": [
        "top100_tv = ia.get_popular100_tv()\n",
        "for movie in top100_tv:\n",
        "    print(movie['title'], movie['rating'], movie['year'])"
      ],
      "execution_count": null,
      "outputs": [
        {
          "output_type": "stream",
          "name": "stdout",
          "text": [
            "Hawkeye 8.1 2021\n",
            "The Wheel of Time 7.5 2021\n",
            "Yellowstone 8.7 2018\n",
            "Arcane 9.3 2021\n",
            "Succession 8.7 2018\n",
            "Cowboy Bebop 6.8 2021\n",
            "True Story 7.6 2021\n",
            "Money Heist 8.2 2017\n",
            "Dexter: New Blood 8.9 2021\n",
            "The Beatles: Get Back 9.3 2021\n",
            "Lost in Space 7.3 2018\n",
            "The Great 8.1 2020\n",
            "Game of Thrones 9.2 2011\n",
            "Yellowjackets 7.9 2021\n",
            "Hellbound 6.7 2021\n",
            "The Witcher 8.2 2019\n",
            "It's Always Sunny in Philadelphia 8.8 2005\n",
            "Dexter 8.6 2006\n",
            "Dopesick 8.8 2021\n",
            "Squid Game 8.1 2021\n",
            "The Sex Lives of College Girls 7.4 2021\n",
            "Doctor Who 8.6 2005\n",
            "Ted Lasso 8.8 2020\n",
            "The Office 8.9 2005\n",
            "Annie Live! 6.2 2021\n",
            "You 7.7 2018\n",
            "Hanna 7.6 2019\n",
            "The Walking Dead 8.2 2010\n",
            "Seinfeld 8.8 1989\n",
            "Mayor of Kingstown 7.9 2021\n",
            "Chucky 7.5 2021\n",
            "Grey's Anatomy 7.5 2005\n",
            "Elves 5.5 2021\n",
            "Reacher 0.0 2022\n",
            "Peaky Blinders 8.8 2013\n",
            "And Just Like That... 0.0 2021\n",
            "Foundation 7.4 2021\n",
            "Curb Your Enthusiasm 8.7 2000\n",
            "The Sopranos 9.2 1999\n",
            "The Morning Show 8.3 2019\n",
            "Maid 8.5 2021\n",
            "The Shrink Next Door 6.7 2021\n",
            "Star Trek: Discovery 7.2 2017\n",
            "The Book of Boba Fett 0.0 2021\n",
            "The Marvelous Mrs. Maisel 8.7 2017\n",
            "The Blacklist 8.0 2013\n",
            "Narcos: Mexico 8.4 2018\n",
            "Breaking Bad 9.4 2008\n",
            "NCIS 7.7 2003\n",
            "The Sinner 7.9 2017\n",
            "The Mandalorian 8.8 2019\n",
            "The Flash 7.6 2014\n",
            "South Park 8.7 1997\n",
            "American Horror Story 8.0 2011\n",
            "Friends 8.8 1994\n",
            "Invasion 5.9 2021\n",
            "Pam & Tommy 0.0 2022\n",
            "Midnight Mass 7.7 2021\n",
            "Stranger Things 8.7 2016\n",
            "Sex Education 8.3 2019\n",
            "The Big Bang Theory 8.1 2007\n",
            "Criminal Minds 8.1 2005\n",
            "Supernatural 8.4 2005\n",
            "The Expanse 8.5 2015\n",
            "Santa Inc. 1.1 2021\n",
            "Vikings 8.5 2013\n",
            "Law & Order: Special Victims Unit 8.0 1999\n",
            "Gossip Girl 5.3 2021\n",
            "Young Sheldon 7.5 2017\n",
            "Castle 8.1 2009\n",
            "La Brea 5.6 2021\n",
            "F Is for Family 8.0 2015\n",
            "The Boys 8.7 2019\n",
            "Downton Abbey 8.7 2010\n",
            "Big Mouth 7.9 2017\n",
            "Cowboy Bebop 8.9 1998\n",
            "Outlander 8.4 2014\n",
            "JoJo's Bizarre Adventure 8.4 2012\n",
            "Modern Family 8.4 2009\n",
            "Locke & Key 7.4 2020\n",
            "Better Call Saul 8.8 2015\n",
            "Fear the Walking Dead 6.9 2015\n",
            "The Good Doctor 8.1 2017\n",
            "Selling Sunset 6.4 2019\n",
            "Lucifer 8.1 2016\n",
            "Chicago Fire 8.0 2012\n",
            "Shameless 8.5 2011\n",
            "Riverdale 6.7 2017\n",
            "Nash Bridges 6.2 2021\n",
            "Euphoria 8.4 2019\n",
            "American Rust 7.2 2021\n",
            "Only Murders in the Building 8.2 2021\n",
            "Black Mirror 8.8 2011\n",
            "The Lost Symbol 6.5 2021\n",
            "The Hot Zone 7.3 2019\n",
            "Brooklyn Nine-Nine 8.4 2013\n",
            "Loki 8.3 2021\n",
            "Attack on Titan 9.0 2013\n",
            "American Crime Story 8.4 2016\n",
            "Ozark 8.4 2017\n"
          ]
        }
      ]
    },
    {
      "cell_type": "code",
      "metadata": {
        "colab": {
          "base_uri": "https://localhost:8080/"
        },
        "id": "Pfj0mAPKP0hQ",
        "outputId": "9eb9d0c7-0ab4-41ea-d287-b667152a804a"
      },
      "source": [
        "mov = top100_tv[0]\n",
        "dict(mov)"
      ],
      "execution_count": null,
      "outputs": [
        {
          "output_type": "execute_result",
          "data": {
            "text/plain": [
              "{'canonical title': 'Hawkeye',\n",
              " 'kind': 'movie',\n",
              " 'long imdb canonical title': 'Hawkeye (2021)',\n",
              " 'long imdb title': 'Hawkeye (2021)',\n",
              " 'popular tv 100 rank': 1,\n",
              " 'rating': 8.1,\n",
              " 'smart canonical title': 'Hawkeye',\n",
              " 'smart long imdb canonical title': 'Hawkeye (2021)',\n",
              " 'title': 'Hawkeye',\n",
              " 'votes': 22937,\n",
              " 'year': 2021}"
            ]
          },
          "metadata": {},
          "execution_count": 12
        }
      ]
    },
    {
      "cell_type": "code",
      "metadata": {
        "id": "r7ZzBrDHP3nW"
      },
      "source": [
        "newlist=[]\n",
        "for movie in top100_tv:\n",
        "    newlist.append(dict(movie))\n",
        "newlist.append(dict(movie))\n",
        "top100_tv_df = pd.DataFrame(newlist, columns=['rating', 'title', 'year'])"
      ],
      "execution_count": null,
      "outputs": []
    },
    {
      "cell_type": "markdown",
      "metadata": {
        "id": "GGyqaqX4P722"
      },
      "source": [
        "BOTTOM 100 MOVIES"
      ]
    },
    {
      "cell_type": "code",
      "metadata": {
        "colab": {
          "base_uri": "https://localhost:8080/"
        },
        "id": "hCJIxfTmP5rg",
        "outputId": "ebe7dc91-ae37-4201-d182-056d6fcfaff9"
      },
      "source": [
        "bottom100_mov = ia.get_bottom100_movies()\n",
        "for movie in bottom100_mov:\n",
        "    print(movie['title'], movie['rating'], movie['year'])"
      ],
      "execution_count": null,
      "outputs": [
        {
          "output_type": "stream",
          "name": "stdout",
          "text": [
            "Disaster Movie 2.0 2008\n",
            "Superbabies: Baby Geniuses 2 2.0 2004\n",
            "Code Name: K.O.Z. 2.1 2015\n",
            "Manos: The Hands of Fate 2.1 1966\n",
            "Kirk Cameron's Saving Christmas 2.1 2014\n",
            "Birdemic: Shock and Terror 2.1 2010\n",
            "The Hottie & the Nottie 2.2 2008\n",
            "House of the Dead 2.3 2003\n",
            "Pledge This! 2.3 2006\n",
            "Radhe 2.4 2021\n",
            "Son of the Mask 2.4 2005\n",
            "Turks in Space 2.4 2006\n",
            "Epic Movie 2.5 2007\n",
            "Race 3 2.5 2018\n",
            "Foodfight! 2.5 2012\n",
            "Daniel the Wizard 2.5 2004\n",
            "From Justin to Kelly 2.6 2003\n",
            "Going Overboard 2.6 1989\n",
            "Alone in the Dark 2.6 2005\n",
            "Battlefield Earth 2.6 2000\n",
            "Dragonball Evolution 2.6 2009\n",
            "Gigli 2.7 2003\n",
            "Coolie No. 1 2.7 2020\n",
            "Glitter 2.8 2001\n",
            "Meet the Spartans 2.9 2008\n",
            "Enes Batur 2.9 2018\n",
            "Cats 2.9 2019\n",
            "Date Movie 2.9 2006\n",
            "Baby Geniuses 2.9 1999\n",
            "Hobgoblins 3.0 1988\n",
            "The Cost of Deception 3.0 2021\n",
            "Who's Your Caddy? 3.0 2007\n",
            "The Human Centipede III (Final Sequence) 3.1 2015\n",
            "Jaws: The Revenge 3.1 1987\n",
            "BloodRayne 3.2 2005\n",
            "Smolensk 3.2 2016\n",
            "Troll 2 3.2 1990\n",
            "Cosmic Sin 3.2 2021\n",
            "Tees Maar Khan 3.2 2010\n",
            "Left Behind 3.2 2014\n",
            "Student of the Year 2 3.3 2019\n",
            "Santa Claus Conquers the Martians 3.3 1964\n",
            "365 Days 3.3 2020\n",
            "Gunday 3.3 2014\n",
            "Kazaam 3.3 1996\n",
            "Rollerball 3.3 2002\n",
            "Jack and Jill 3.3 2011\n",
            "Laxmii 3.3 2020\n",
            "Steel 3.4 1997\n",
            "Slender Man 3.4 2018\n",
            "Catwoman 3.4 2004\n",
            "The Emoji Movie 3.4 2017\n",
            "The Starving Games 3.4 2013\n",
            "Gully 3.5 2019\n",
            "The Open House 3.5 2018\n",
            "Baaghi 3 3.5 2020\n",
            "Vampires Suck 3.5 2010\n",
            "Daddy Day Camp 3.5 2007\n",
            "Far Cry 3.5 2008\n",
            "3 Ninjas: High Noon at Mega Mountain 3.5 1998\n",
            "Bratz 3.6 2007\n",
            "Barb Wire 3.6 1996\n",
            "Texas Chainsaw Massacre: The Next Generation 3.6 1994\n",
            "Dumb and Dumberer: When Harry Met Lloyd 3.6 2003\n",
            "Hercules in New York 3.6 1970\n",
            "The Master of Disguise 3.6 2002\n",
            "Scary Movie V 3.6 2013\n",
            "Breach 3.6 2020\n",
            "Feardotcom 3.7 2002\n",
            "Bucky Larson: Born to Be a Star 3.7 2011\n",
            "Spy Kids 4-D: All the Time in the World 3.7 2011\n",
            "The NeverEnding Story III 3.7 1994\n",
            "Captain America 3.7 1990\n",
            "Dabangg 3 3.7 2019\n",
            "Spice World 3.7 1997\n",
            "Police Academy: Mission to Moscow 3.7 1994\n",
            "Fifty Shades of Black 3.7 2016\n",
            "Crossroads 3.7 2002\n",
            "The Room 3.7 2003\n",
            "Black Christmas 3.7 2019\n",
            "Mortal Kombat: Annihilation 3.8 1997\n",
            "Dragon Wars: D-War 3.8 2007\n",
            "Mac and Me 3.8 1988\n",
            "Jaws 3-D 3.8 1983\n",
            "Batman & Robin 3.8 1997\n",
            "I Know Who Killed Me 3.8 2007\n",
            "The Wicker Man 3.8 2006\n",
            "The Adventures of Sharkboy and Lavagirl 3-D 3.8 2005\n",
            "Superman IV: The Quest for Peace 3.8 1987\n",
            "The Fog 3.8 2005\n",
            "Dungeons & Dragons 3.8 2000\n",
            "Piranha 3DD 3.8 2012\n",
            "The Hungover Games 3.8 2014\n",
            "Recep Ivedik 5 3.8 2017\n",
            "Teen Wolf Too 3.8 1987\n",
            "The Love Guru 3.9 2008\n",
            "The Flintstones in Viva Rock Vegas 3.9 2000\n",
            "Street Fighter: The Legend of Chun-Li 3.9 2009\n",
            "Stan Helsing 3.9 2009\n",
            "Human Centipede 2: Tom Six Discusses the Story Concept 3.9 2011\n"
          ]
        }
      ]
    },
    {
      "cell_type": "code",
      "metadata": {
        "colab": {
          "base_uri": "https://localhost:8080/"
        },
        "id": "-QEVUx4KQHDS",
        "outputId": "d75f4aa3-7cc7-42e3-ca5e-b5da0eac3e5b"
      },
      "source": [
        "mov = bottom100_mov[0]\n",
        "dict(mov)"
      ],
      "execution_count": null,
      "outputs": [
        {
          "output_type": "execute_result",
          "data": {
            "text/plain": [
              "{'bottom 100 rank': 1,\n",
              " 'canonical title': 'Disaster Movie',\n",
              " 'kind': 'movie',\n",
              " 'long imdb canonical title': 'Disaster Movie (2008)',\n",
              " 'long imdb title': 'Disaster Movie (2008)',\n",
              " 'rating': 2.0,\n",
              " 'smart canonical title': 'Disaster Movie',\n",
              " 'smart long imdb canonical title': 'Disaster Movie (2008)',\n",
              " 'title': 'Disaster Movie',\n",
              " 'votes': 89869,\n",
              " 'year': 2008}"
            ]
          },
          "metadata": {},
          "execution_count": 15
        }
      ]
    },
    {
      "cell_type": "code",
      "metadata": {
        "id": "HvwVJPN4QKYw"
      },
      "source": [
        "newlist=[]\n",
        "for movie in bottom100_mov:\n",
        "    newlist.append(dict(movie))\n",
        "newlist.append(dict(movie))\n",
        "bottom100_mov_df = pd.DataFrame(newlist, columns=['rating', 'title', 'year'])"
      ],
      "execution_count": null,
      "outputs": []
    },
    {
      "cell_type": "code",
      "metadata": {
        "colab": {
          "base_uri": "https://localhost:8080/"
        },
        "id": "Mr_bE6VcQNKO",
        "outputId": "80cec7e1-255b-48a1-f9c5-649418e0d18f"
      },
      "source": [
        "bottom100_mov = ia.get_bottom100_movies()\n",
        "for movie in bottom100_mov:\n",
        "    print(movie['title'], movie['rating'], movie['year'])"
      ],
      "execution_count": null,
      "outputs": [
        {
          "output_type": "stream",
          "name": "stdout",
          "text": [
            "Disaster Movie 2.0 2008\n",
            "Superbabies: Baby Geniuses 2 2.0 2004\n",
            "Code Name: K.O.Z. 2.1 2015\n",
            "Manos: The Hands of Fate 2.1 1966\n",
            "Kirk Cameron's Saving Christmas 2.1 2014\n",
            "Birdemic: Shock and Terror 2.1 2010\n",
            "The Hottie & the Nottie 2.2 2008\n",
            "House of the Dead 2.3 2003\n",
            "Pledge This! 2.3 2006\n",
            "Radhe 2.4 2021\n",
            "Son of the Mask 2.4 2005\n",
            "Turks in Space 2.4 2006\n",
            "Epic Movie 2.5 2007\n",
            "Race 3 2.5 2018\n",
            "Foodfight! 2.5 2012\n",
            "Daniel the Wizard 2.5 2004\n",
            "From Justin to Kelly 2.6 2003\n",
            "Going Overboard 2.6 1989\n",
            "Alone in the Dark 2.6 2005\n",
            "Battlefield Earth 2.6 2000\n",
            "Dragonball Evolution 2.6 2009\n",
            "Gigli 2.7 2003\n",
            "Coolie No. 1 2.7 2020\n",
            "Glitter 2.8 2001\n",
            "Meet the Spartans 2.9 2008\n",
            "Enes Batur 2.9 2018\n",
            "Cats 2.9 2019\n",
            "Date Movie 2.9 2006\n",
            "Baby Geniuses 2.9 1999\n",
            "Hobgoblins 3.0 1988\n",
            "The Cost of Deception 3.0 2021\n",
            "Who's Your Caddy? 3.0 2007\n",
            "The Human Centipede III (Final Sequence) 3.1 2015\n",
            "Jaws: The Revenge 3.1 1987\n",
            "BloodRayne 3.2 2005\n",
            "Smolensk 3.2 2016\n",
            "Troll 2 3.2 1990\n",
            "Cosmic Sin 3.2 2021\n",
            "Tees Maar Khan 3.2 2010\n",
            "Left Behind 3.2 2014\n",
            "Student of the Year 2 3.3 2019\n",
            "Santa Claus Conquers the Martians 3.3 1964\n",
            "365 Days 3.3 2020\n",
            "Gunday 3.3 2014\n",
            "Kazaam 3.3 1996\n",
            "Rollerball 3.3 2002\n",
            "Jack and Jill 3.3 2011\n",
            "Laxmii 3.3 2020\n",
            "Steel 3.4 1997\n",
            "Slender Man 3.4 2018\n",
            "Catwoman 3.4 2004\n",
            "The Emoji Movie 3.4 2017\n",
            "The Starving Games 3.4 2013\n",
            "Gully 3.5 2019\n",
            "The Open House 3.5 2018\n",
            "Baaghi 3 3.5 2020\n",
            "Vampires Suck 3.5 2010\n",
            "Daddy Day Camp 3.5 2007\n",
            "Far Cry 3.5 2008\n",
            "3 Ninjas: High Noon at Mega Mountain 3.5 1998\n",
            "Bratz 3.6 2007\n",
            "Barb Wire 3.6 1996\n",
            "Texas Chainsaw Massacre: The Next Generation 3.6 1994\n",
            "Dumb and Dumberer: When Harry Met Lloyd 3.6 2003\n",
            "Hercules in New York 3.6 1970\n",
            "The Master of Disguise 3.6 2002\n",
            "Scary Movie V 3.6 2013\n",
            "Breach 3.6 2020\n",
            "Feardotcom 3.7 2002\n",
            "Bucky Larson: Born to Be a Star 3.7 2011\n",
            "Spy Kids 4-D: All the Time in the World 3.7 2011\n",
            "The NeverEnding Story III 3.7 1994\n",
            "Captain America 3.7 1990\n",
            "Dabangg 3 3.7 2019\n",
            "Spice World 3.7 1997\n",
            "Police Academy: Mission to Moscow 3.7 1994\n",
            "Fifty Shades of Black 3.7 2016\n",
            "Crossroads 3.7 2002\n",
            "The Room 3.7 2003\n",
            "Black Christmas 3.7 2019\n",
            "Mortal Kombat: Annihilation 3.8 1997\n",
            "Dragon Wars: D-War 3.8 2007\n",
            "Mac and Me 3.8 1988\n",
            "Jaws 3-D 3.8 1983\n",
            "Batman & Robin 3.8 1997\n",
            "I Know Who Killed Me 3.8 2007\n",
            "The Wicker Man 3.8 2006\n",
            "The Adventures of Sharkboy and Lavagirl 3-D 3.8 2005\n",
            "Superman IV: The Quest for Peace 3.8 1987\n",
            "The Fog 3.8 2005\n",
            "Dungeons & Dragons 3.8 2000\n",
            "Piranha 3DD 3.8 2012\n",
            "The Hungover Games 3.8 2014\n",
            "Recep Ivedik 5 3.8 2017\n",
            "Teen Wolf Too 3.8 1987\n",
            "The Love Guru 3.9 2008\n",
            "The Flintstones in Viva Rock Vegas 3.9 2000\n",
            "Street Fighter: The Legend of Chun-Li 3.9 2009\n",
            "Stan Helsing 3.9 2009\n",
            "Human Centipede 2: Tom Six Discusses the Story Concept 3.9 2011\n"
          ]
        }
      ]
    },
    {
      "cell_type": "code",
      "metadata": {
        "id": "XpZ2CYOPQi7S",
        "colab": {
          "base_uri": "https://localhost:8080/",
          "height": 232
        },
        "outputId": "ff51c893-a783-48f1-ccff-fa3e1fdf6e69"
      },
      "source": [
        "df1 = pd.DataFrame(bottom100_mov_df)\n",
        "df2 = pd.DataFrame(top100_tv_df)\n",
        "df3 = pd.DataFrame(top100_mov_df)\n",
        "df4 = pd.DataFrame(top250_mov_df)\n",
        "df2 = pd.DataFrame(top250_tv_df)\n",
        "\n",
        "merged_df = pd.concat([df1, df2, df3, df4])"
      ],
      "execution_count": null,
      "outputs": [
        {
          "output_type": "error",
          "ename": "NameError",
          "evalue": "ignored",
          "traceback": [
            "\u001b[0;31m---------------------------------------------------------------------------\u001b[0m",
            "\u001b[0;31mNameError\u001b[0m                                 Traceback (most recent call last)",
            "\u001b[0;32m<ipython-input-14-971ab14d4230>\u001b[0m in \u001b[0;36m<module>\u001b[0;34m()\u001b[0m\n\u001b[0;32m----> 1\u001b[0;31m \u001b[0mdf1\u001b[0m \u001b[0;34m=\u001b[0m \u001b[0mpd\u001b[0m\u001b[0;34m.\u001b[0m\u001b[0mDataFrame\u001b[0m\u001b[0;34m(\u001b[0m\u001b[0mbottom100_mov_df\u001b[0m\u001b[0;34m)\u001b[0m\u001b[0;34m\u001b[0m\u001b[0;34m\u001b[0m\u001b[0m\n\u001b[0m\u001b[1;32m      2\u001b[0m \u001b[0mdf2\u001b[0m \u001b[0;34m=\u001b[0m \u001b[0mpd\u001b[0m\u001b[0;34m.\u001b[0m\u001b[0mDataFrame\u001b[0m\u001b[0;34m(\u001b[0m\u001b[0mtop100_tv_df\u001b[0m\u001b[0;34m)\u001b[0m\u001b[0;34m\u001b[0m\u001b[0;34m\u001b[0m\u001b[0m\n\u001b[1;32m      3\u001b[0m \u001b[0mdf3\u001b[0m \u001b[0;34m=\u001b[0m \u001b[0mpd\u001b[0m\u001b[0;34m.\u001b[0m\u001b[0mDataFrame\u001b[0m\u001b[0;34m(\u001b[0m\u001b[0mtop100_mov_df\u001b[0m\u001b[0;34m)\u001b[0m\u001b[0;34m\u001b[0m\u001b[0;34m\u001b[0m\u001b[0m\n\u001b[1;32m      4\u001b[0m \u001b[0mdf4\u001b[0m \u001b[0;34m=\u001b[0m \u001b[0mpd\u001b[0m\u001b[0;34m.\u001b[0m\u001b[0mDataFrame\u001b[0m\u001b[0;34m(\u001b[0m\u001b[0mtop250_mov_df\u001b[0m\u001b[0;34m)\u001b[0m\u001b[0;34m\u001b[0m\u001b[0;34m\u001b[0m\u001b[0m\n\u001b[1;32m      5\u001b[0m \u001b[0mdf2\u001b[0m \u001b[0;34m=\u001b[0m \u001b[0mpd\u001b[0m\u001b[0;34m.\u001b[0m\u001b[0mDataFrame\u001b[0m\u001b[0;34m(\u001b[0m\u001b[0mtop250_tv_df\u001b[0m\u001b[0;34m)\u001b[0m\u001b[0;34m\u001b[0m\u001b[0;34m\u001b[0m\u001b[0m\n",
            "\u001b[0;31mNameError\u001b[0m: name 'bottom100_mov_df' is not defined"
          ]
        }
      ]
    },
    {
      "cell_type": "code",
      "metadata": {
        "id": "P9rC8uTlQoMC",
        "colab": {
          "base_uri": "https://localhost:8080/",
          "height": 166
        },
        "outputId": "a699c535-8660-4e98-8f0c-b85d16f9af3d"
      },
      "source": [
        "merged_df.to_csv('IMDb.csv', encoding='utf-8')"
      ],
      "execution_count": null,
      "outputs": [
        {
          "output_type": "error",
          "ename": "NameError",
          "evalue": "ignored",
          "traceback": [
            "\u001b[0;31m---------------------------------------------------------------------------\u001b[0m",
            "\u001b[0;31mNameError\u001b[0m                                 Traceback (most recent call last)",
            "\u001b[0;32m<ipython-input-19-dc7acfdb091f>\u001b[0m in \u001b[0;36m<module>\u001b[0;34m()\u001b[0m\n\u001b[0;32m----> 1\u001b[0;31m \u001b[0mmerged_df\u001b[0m\u001b[0;34m.\u001b[0m\u001b[0mto_csv\u001b[0m\u001b[0;34m(\u001b[0m\u001b[0;34m'IMDb.csv'\u001b[0m\u001b[0;34m,\u001b[0m \u001b[0mencoding\u001b[0m\u001b[0;34m=\u001b[0m\u001b[0;34m'utf-8'\u001b[0m\u001b[0;34m)\u001b[0m\u001b[0;34m\u001b[0m\u001b[0;34m\u001b[0m\u001b[0m\n\u001b[0m",
            "\u001b[0;31mNameError\u001b[0m: name 'merged_df' is not defined"
          ]
        }
      ]
    }
  ]
}