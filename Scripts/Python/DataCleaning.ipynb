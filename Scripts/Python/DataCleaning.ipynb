{
 "cells": [
  {
   "cell_type": "markdown",
   "id": "cb112e22-1810-47df-943f-b9356dd6537a",
   "metadata": {},
   "source": [
    "## Data Engineering Platform For Analytics"
   ]
  },
  {
   "cell_type": "markdown",
   "id": "d3d9ce94-9822-4e32-b024-7b7135719061",
   "metadata": {},
   "source": [
    "### Data Cleaning"
   ]
  },
  {
   "cell_type": "markdown",
   "id": "f7fe6d6b-28b3-4963-9ed1-286a9c5e8230",
   "metadata": {},
   "source": [
    "**Importing necessary libraries**"
   ]
  },
  {
   "cell_type": "code",
   "execution_count": 1,
   "id": "ae60a8cb-e1f5-4205-abb2-241d0be9708f",
   "metadata": {},
   "outputs": [],
   "source": [
    "import matplotlib.pyplot as plt\n",
    "import pandas as pd\n",
    "import seaborn as sns\n",
    "import mysql.connector as mysql\n",
    "import warnings\n",
    "import pymysql\n",
    "from pandas.io import sql\n",
    "\n",
    "\n",
    "warnings.filterwarnings(\"ignore\")"
   ]
  },
  {
   "cell_type": "markdown",
   "id": "152171a4-7a8e-4e2f-a8c4-0b5b24b74cee",
   "metadata": {},
   "source": [
    "#### Name Basics"
   ]
  },
  {
   "cell_type": "code",
   "execution_count": 2,
   "id": "92e60013-d593-49b1-abf4-daf81c7609f2",
   "metadata": {},
   "outputs": [],
   "source": [
    "name_basics_0 = pd.read_csv('/Users/ali/Documents/University of Chicago/Data Engineering Platform for Analytics/Project/Datasets/name.basics.tsv', sep='\\t', \n",
    "                 low_memory = False, skipinitialspace = True)"
   ]
  },
  {
   "cell_type": "code",
   "execution_count": 3,
   "id": "f17471ab-d8d9-4cfb-88c3-379cdb11d602",
   "metadata": {
    "tags": []
   },
   "outputs": [
    {
     "data": {
      "text/html": [
       "<div>\n",
       "<style scoped>\n",
       "    .dataframe tbody tr th:only-of-type {\n",
       "        vertical-align: middle;\n",
       "    }\n",
       "\n",
       "    .dataframe tbody tr th {\n",
       "        vertical-align: top;\n",
       "    }\n",
       "\n",
       "    .dataframe thead th {\n",
       "        text-align: right;\n",
       "    }\n",
       "</style>\n",
       "<table border=\"1\" class=\"dataframe\">\n",
       "  <thead>\n",
       "    <tr style=\"text-align: right;\">\n",
       "      <th></th>\n",
       "      <th>nconst</th>\n",
       "      <th>primaryName</th>\n",
       "      <th>birthYear</th>\n",
       "      <th>deathYear</th>\n",
       "      <th>primaryProfession</th>\n",
       "      <th>knownForTitles</th>\n",
       "    </tr>\n",
       "  </thead>\n",
       "  <tbody>\n",
       "    <tr>\n",
       "      <th>0</th>\n",
       "      <td>nm0000001</td>\n",
       "      <td>Fred Astaire</td>\n",
       "      <td>1899</td>\n",
       "      <td>1987</td>\n",
       "      <td>soundtrack,actor,miscellaneous</td>\n",
       "      <td>tt0031983,tt0053137,tt0050419,tt0072308</td>\n",
       "    </tr>\n",
       "    <tr>\n",
       "      <th>1</th>\n",
       "      <td>nm0000002</td>\n",
       "      <td>Lauren Bacall</td>\n",
       "      <td>1924</td>\n",
       "      <td>2014</td>\n",
       "      <td>actress,soundtrack</td>\n",
       "      <td>tt0038355,tt0117057,tt0037382,tt0071877</td>\n",
       "    </tr>\n",
       "    <tr>\n",
       "      <th>2</th>\n",
       "      <td>nm0000003</td>\n",
       "      <td>Brigitte Bardot</td>\n",
       "      <td>1934</td>\n",
       "      <td>\\N</td>\n",
       "      <td>actress,soundtrack,music_department</td>\n",
       "      <td>tt0049189,tt0054452,tt0056404,tt0057345</td>\n",
       "    </tr>\n",
       "    <tr>\n",
       "      <th>3</th>\n",
       "      <td>nm0000004</td>\n",
       "      <td>John Belushi</td>\n",
       "      <td>1949</td>\n",
       "      <td>1982</td>\n",
       "      <td>actor,soundtrack,writer</td>\n",
       "      <td>tt0078723,tt0077975,tt0080455,tt0072562</td>\n",
       "    </tr>\n",
       "    <tr>\n",
       "      <th>4</th>\n",
       "      <td>nm0000005</td>\n",
       "      <td>Ingmar Bergman</td>\n",
       "      <td>1918</td>\n",
       "      <td>2007</td>\n",
       "      <td>writer,director,actor</td>\n",
       "      <td>tt0050976,tt0083922,tt0060827,tt0050986</td>\n",
       "    </tr>\n",
       "  </tbody>\n",
       "</table>\n",
       "</div>"
      ],
      "text/plain": [
       "      nconst      primaryName birthYear deathYear  \\\n",
       "0  nm0000001     Fred Astaire      1899      1987   \n",
       "1  nm0000002    Lauren Bacall      1924      2014   \n",
       "2  nm0000003  Brigitte Bardot      1934        \\N   \n",
       "3  nm0000004     John Belushi      1949      1982   \n",
       "4  nm0000005   Ingmar Bergman      1918      2007   \n",
       "\n",
       "                     primaryProfession  \\\n",
       "0       soundtrack,actor,miscellaneous   \n",
       "1                   actress,soundtrack   \n",
       "2  actress,soundtrack,music_department   \n",
       "3              actor,soundtrack,writer   \n",
       "4                writer,director,actor   \n",
       "\n",
       "                            knownForTitles  \n",
       "0  tt0031983,tt0053137,tt0050419,tt0072308  \n",
       "1  tt0038355,tt0117057,tt0037382,tt0071877  \n",
       "2  tt0049189,tt0054452,tt0056404,tt0057345  \n",
       "3  tt0078723,tt0077975,tt0080455,tt0072562  \n",
       "4  tt0050976,tt0083922,tt0060827,tt0050986  "
      ]
     },
     "execution_count": 3,
     "metadata": {},
     "output_type": "execute_result"
    }
   ],
   "source": [
    "name_basics_0.head()"
   ]
  },
  {
   "cell_type": "code",
   "execution_count": 4,
   "id": "395725bb-0f30-45ee-be90-d83b79ea4bfc",
   "metadata": {},
   "outputs": [
    {
     "data": {
      "text/plain": [
       "(11362755, 6)"
      ]
     },
     "execution_count": 4,
     "metadata": {},
     "output_type": "execute_result"
    }
   ],
   "source": [
    "name_basics_0.shape"
   ]
  },
  {
   "cell_type": "markdown",
   "id": "7c16a426-8e0a-4150-8dc3-f61f591392ba",
   "metadata": {},
   "source": [
    "*The number of rows exceed the capacity of excel. Therefore we would be unable to export to excel and process through mySQL*"
   ]
  },
  {
   "cell_type": "code",
   "execution_count": 5,
   "id": "fb387b66-8bae-4c0c-8076-003d9226a623",
   "metadata": {},
   "outputs": [],
   "source": [
    "name_clean = name_basics_0"
   ]
  },
  {
   "cell_type": "markdown",
   "id": "0c12b171-5201-4592-ba9f-f7e637272fb8",
   "metadata": {},
   "source": [
    "**Using str.split() operations to split strings into all of its components. This will allows us to examine each value for our required joins**"
   ]
  },
  {
   "cell_type": "code",
   "execution_count": 6,
   "id": "cb97079e-6fc1-4bcb-9a36-7da4cf191899",
   "metadata": {},
   "outputs": [],
   "source": [
    "name_clean[['Profession_1', 'Profession_2', 'Profession_3']] = name_clean['primaryProfession'].str.split(',', expand=True)"
   ]
  },
  {
   "cell_type": "code",
   "execution_count": 7,
   "id": "15042777-2306-49ec-84ab-2ceb278164c7",
   "metadata": {},
   "outputs": [],
   "source": [
    "name_clean[['Title_1', 'Title_2', 'Title_3', 'Title_4', 'Title_5', 'Title_6']] = name_clean['knownForTitles'].str.split(',', expand=True)"
   ]
  },
  {
   "cell_type": "code",
   "execution_count": 8,
   "id": "e3d54fac-11e9-4383-b7a3-005cb143291b",
   "metadata": {},
   "outputs": [
    {
     "data": {
      "text/html": [
       "<div>\n",
       "<style scoped>\n",
       "    .dataframe tbody tr th:only-of-type {\n",
       "        vertical-align: middle;\n",
       "    }\n",
       "\n",
       "    .dataframe tbody tr th {\n",
       "        vertical-align: top;\n",
       "    }\n",
       "\n",
       "    .dataframe thead th {\n",
       "        text-align: right;\n",
       "    }\n",
       "</style>\n",
       "<table border=\"1\" class=\"dataframe\">\n",
       "  <thead>\n",
       "    <tr style=\"text-align: right;\">\n",
       "      <th></th>\n",
       "      <th>Profession_1</th>\n",
       "      <th>Profession_2</th>\n",
       "      <th>Profession_3</th>\n",
       "      <th>Title_1</th>\n",
       "      <th>Title_2</th>\n",
       "      <th>Title_3</th>\n",
       "      <th>Title_4</th>\n",
       "      <th>Title_5</th>\n",
       "      <th>Title_6</th>\n",
       "    </tr>\n",
       "  </thead>\n",
       "  <tbody>\n",
       "    <tr>\n",
       "      <th>0</th>\n",
       "      <td>soundtrack</td>\n",
       "      <td>actor</td>\n",
       "      <td>miscellaneous</td>\n",
       "      <td>tt0031983</td>\n",
       "      <td>tt0053137</td>\n",
       "      <td>tt0050419</td>\n",
       "      <td>tt0072308</td>\n",
       "      <td>None</td>\n",
       "      <td>None</td>\n",
       "    </tr>\n",
       "    <tr>\n",
       "      <th>1</th>\n",
       "      <td>actress</td>\n",
       "      <td>soundtrack</td>\n",
       "      <td>None</td>\n",
       "      <td>tt0038355</td>\n",
       "      <td>tt0117057</td>\n",
       "      <td>tt0037382</td>\n",
       "      <td>tt0071877</td>\n",
       "      <td>None</td>\n",
       "      <td>None</td>\n",
       "    </tr>\n",
       "    <tr>\n",
       "      <th>2</th>\n",
       "      <td>actress</td>\n",
       "      <td>soundtrack</td>\n",
       "      <td>music_department</td>\n",
       "      <td>tt0049189</td>\n",
       "      <td>tt0054452</td>\n",
       "      <td>tt0056404</td>\n",
       "      <td>tt0057345</td>\n",
       "      <td>None</td>\n",
       "      <td>None</td>\n",
       "    </tr>\n",
       "    <tr>\n",
       "      <th>3</th>\n",
       "      <td>actor</td>\n",
       "      <td>soundtrack</td>\n",
       "      <td>writer</td>\n",
       "      <td>tt0078723</td>\n",
       "      <td>tt0077975</td>\n",
       "      <td>tt0080455</td>\n",
       "      <td>tt0072562</td>\n",
       "      <td>None</td>\n",
       "      <td>None</td>\n",
       "    </tr>\n",
       "    <tr>\n",
       "      <th>4</th>\n",
       "      <td>writer</td>\n",
       "      <td>director</td>\n",
       "      <td>actor</td>\n",
       "      <td>tt0050976</td>\n",
       "      <td>tt0083922</td>\n",
       "      <td>tt0060827</td>\n",
       "      <td>tt0050986</td>\n",
       "      <td>None</td>\n",
       "      <td>None</td>\n",
       "    </tr>\n",
       "    <tr>\n",
       "      <th>5</th>\n",
       "      <td>actress</td>\n",
       "      <td>soundtrack</td>\n",
       "      <td>producer</td>\n",
       "      <td>tt0034583</td>\n",
       "      <td>tt0077711</td>\n",
       "      <td>tt0036855</td>\n",
       "      <td>tt0038109</td>\n",
       "      <td>None</td>\n",
       "      <td>None</td>\n",
       "    </tr>\n",
       "    <tr>\n",
       "      <th>6</th>\n",
       "      <td>actor</td>\n",
       "      <td>soundtrack</td>\n",
       "      <td>producer</td>\n",
       "      <td>tt0033870</td>\n",
       "      <td>tt0043265</td>\n",
       "      <td>tt0034583</td>\n",
       "      <td>tt0042593</td>\n",
       "      <td>None</td>\n",
       "      <td>None</td>\n",
       "    </tr>\n",
       "    <tr>\n",
       "      <th>7</th>\n",
       "      <td>actor</td>\n",
       "      <td>soundtrack</td>\n",
       "      <td>director</td>\n",
       "      <td>tt0078788</td>\n",
       "      <td>tt0068646</td>\n",
       "      <td>tt0070849</td>\n",
       "      <td>tt0047296</td>\n",
       "      <td>None</td>\n",
       "      <td>None</td>\n",
       "    </tr>\n",
       "    <tr>\n",
       "      <th>8</th>\n",
       "      <td>actor</td>\n",
       "      <td>soundtrack</td>\n",
       "      <td>producer</td>\n",
       "      <td>tt0087803</td>\n",
       "      <td>tt0057877</td>\n",
       "      <td>tt0059749</td>\n",
       "      <td>tt0061184</td>\n",
       "      <td>None</td>\n",
       "      <td>None</td>\n",
       "    </tr>\n",
       "    <tr>\n",
       "      <th>9</th>\n",
       "      <td>actor</td>\n",
       "      <td>soundtrack</td>\n",
       "      <td>director</td>\n",
       "      <td>tt0042041</td>\n",
       "      <td>tt0029870</td>\n",
       "      <td>tt0031867</td>\n",
       "      <td>tt0035575</td>\n",
       "      <td>None</td>\n",
       "      <td>None</td>\n",
       "    </tr>\n",
       "  </tbody>\n",
       "</table>\n",
       "</div>"
      ],
      "text/plain": [
       "  Profession_1 Profession_2      Profession_3    Title_1    Title_2  \\\n",
       "0   soundtrack        actor     miscellaneous  tt0031983  tt0053137   \n",
       "1      actress   soundtrack              None  tt0038355  tt0117057   \n",
       "2      actress   soundtrack  music_department  tt0049189  tt0054452   \n",
       "3        actor   soundtrack            writer  tt0078723  tt0077975   \n",
       "4       writer     director             actor  tt0050976  tt0083922   \n",
       "5      actress   soundtrack          producer  tt0034583  tt0077711   \n",
       "6        actor   soundtrack          producer  tt0033870  tt0043265   \n",
       "7        actor   soundtrack          director  tt0078788  tt0068646   \n",
       "8        actor   soundtrack          producer  tt0087803  tt0057877   \n",
       "9        actor   soundtrack          director  tt0042041  tt0029870   \n",
       "\n",
       "     Title_3    Title_4 Title_5 Title_6  \n",
       "0  tt0050419  tt0072308    None    None  \n",
       "1  tt0037382  tt0071877    None    None  \n",
       "2  tt0056404  tt0057345    None    None  \n",
       "3  tt0080455  tt0072562    None    None  \n",
       "4  tt0060827  tt0050986    None    None  \n",
       "5  tt0036855  tt0038109    None    None  \n",
       "6  tt0034583  tt0042593    None    None  \n",
       "7  tt0070849  tt0047296    None    None  \n",
       "8  tt0059749  tt0061184    None    None  \n",
       "9  tt0031867  tt0035575    None    None  "
      ]
     },
     "execution_count": 8,
     "metadata": {},
     "output_type": "execute_result"
    }
   ],
   "source": [
    "name_clean[['Profession_1', 'Profession_2', 'Profession_3', 'Title_1', 'Title_2', 'Title_3', 'Title_4', 'Title_5', 'Title_6']].head(10)"
   ]
  },
  {
   "cell_type": "markdown",
   "id": "277fa61d-80b3-4ae7-acab-83c3d3804976",
   "metadata": {},
   "source": [
    "**Examining null values in the dataframe columns**"
   ]
  },
  {
   "cell_type": "code",
   "execution_count": 9,
   "id": "32cf110c-51a5-4d7c-9b7e-7dc8237820ba",
   "metadata": {},
   "outputs": [
    {
     "data": {
      "image/png": "[encoded data removed]",
      "text/plain": [
       "<Figure size 1008x432 with 2 Axes>"
      ]
     },
     "metadata": {
      "needs_background": "light"
     },
     "output_type": "display_data"
    }
   ],
   "source": [
    "plt.figure(figsize=(14,6))\n",
    "sns.heatmap(name_clean.isnull())\n",
    "plt.show()"
   ]
  },
  {
   "cell_type": "markdown",
   "id": "36e041c1-fcf4-4abc-85c1-196dcefadf5c",
   "metadata": {},
   "source": [
    "*As anticipated, there are no null values in Title_1 but they progressively increase for each new column containing title*"
   ]
  },
  {
   "cell_type": "code",
   "execution_count": 10,
   "id": "40b510f1-5395-4f79-992d-45b34148981e",
   "metadata": {},
   "outputs": [],
   "source": [
    "name_clean = name_clean.drop(columns=['primaryProfession', 'knownForTitles'])"
   ]
  },
  {
   "cell_type": "code",
   "execution_count": 11,
   "id": "d705ced3-ef18-4e07-93e6-350971743e99",
   "metadata": {},
   "outputs": [
    {
     "data": {
      "text/html": [
       "<div>\n",
       "<style scoped>\n",
       "    .dataframe tbody tr th:only-of-type {\n",
       "        vertical-align: middle;\n",
       "    }\n",
       "\n",
       "    .dataframe tbody tr th {\n",
       "        vertical-align: top;\n",
       "    }\n",
       "\n",
       "    .dataframe thead th {\n",
       "        text-align: right;\n",
       "    }\n",
       "</style>\n",
       "<table border=\"1\" class=\"dataframe\">\n",
       "  <thead>\n",
       "    <tr style=\"text-align: right;\">\n",
       "      <th></th>\n",
       "      <th>nconst</th>\n",
       "      <th>primaryName</th>\n",
       "      <th>birthYear</th>\n",
       "      <th>deathYear</th>\n",
       "      <th>Profession_1</th>\n",
       "      <th>Profession_2</th>\n",
       "      <th>Profession_3</th>\n",
       "      <th>Title_1</th>\n",
       "      <th>Title_2</th>\n",
       "      <th>Title_3</th>\n",
       "      <th>Title_4</th>\n",
       "      <th>Title_5</th>\n",
       "      <th>Title_6</th>\n",
       "    </tr>\n",
       "  </thead>\n",
       "  <tbody>\n",
       "    <tr>\n",
       "      <th>0</th>\n",
       "      <td>nm0000001</td>\n",
       "      <td>Fred Astaire</td>\n",
       "      <td>1899</td>\n",
       "      <td>1987</td>\n",
       "      <td>soundtrack</td>\n",
       "      <td>actor</td>\n",
       "      <td>miscellaneous</td>\n",
       "      <td>tt0031983</td>\n",
       "      <td>tt0053137</td>\n",
       "      <td>tt0050419</td>\n",
       "      <td>tt0072308</td>\n",
       "      <td>None</td>\n",
       "      <td>None</td>\n",
       "    </tr>\n",
       "    <tr>\n",
       "      <th>1</th>\n",
       "      <td>nm0000002</td>\n",
       "      <td>Lauren Bacall</td>\n",
       "      <td>1924</td>\n",
       "      <td>2014</td>\n",
       "      <td>actress</td>\n",
       "      <td>soundtrack</td>\n",
       "      <td>None</td>\n",
       "      <td>tt0038355</td>\n",
       "      <td>tt0117057</td>\n",
       "      <td>tt0037382</td>\n",
       "      <td>tt0071877</td>\n",
       "      <td>None</td>\n",
       "      <td>None</td>\n",
       "    </tr>\n",
       "    <tr>\n",
       "      <th>2</th>\n",
       "      <td>nm0000003</td>\n",
       "      <td>Brigitte Bardot</td>\n",
       "      <td>1934</td>\n",
       "      <td>\\N</td>\n",
       "      <td>actress</td>\n",
       "      <td>soundtrack</td>\n",
       "      <td>music_department</td>\n",
       "      <td>tt0049189</td>\n",
       "      <td>tt0054452</td>\n",
       "      <td>tt0056404</td>\n",
       "      <td>tt0057345</td>\n",
       "      <td>None</td>\n",
       "      <td>None</td>\n",
       "    </tr>\n",
       "    <tr>\n",
       "      <th>3</th>\n",
       "      <td>nm0000004</td>\n",
       "      <td>John Belushi</td>\n",
       "      <td>1949</td>\n",
       "      <td>1982</td>\n",
       "      <td>actor</td>\n",
       "      <td>soundtrack</td>\n",
       "      <td>writer</td>\n",
       "      <td>tt0078723</td>\n",
       "      <td>tt0077975</td>\n",
       "      <td>tt0080455</td>\n",
       "      <td>tt0072562</td>\n",
       "      <td>None</td>\n",
       "      <td>None</td>\n",
       "    </tr>\n",
       "    <tr>\n",
       "      <th>4</th>\n",
       "      <td>nm0000005</td>\n",
       "      <td>Ingmar Bergman</td>\n",
       "      <td>1918</td>\n",
       "      <td>2007</td>\n",
       "      <td>writer</td>\n",
       "      <td>director</td>\n",
       "      <td>actor</td>\n",
       "      <td>tt0050976</td>\n",
       "      <td>tt0083922</td>\n",
       "      <td>tt0060827</td>\n",
       "      <td>tt0050986</td>\n",
       "      <td>None</td>\n",
       "      <td>None</td>\n",
       "    </tr>\n",
       "  </tbody>\n",
       "</table>\n",
       "</div>"
      ],
      "text/plain": [
       "      nconst      primaryName birthYear deathYear Profession_1 Profession_2  \\\n",
       "0  nm0000001     Fred Astaire      1899      1987   soundtrack        actor   \n",
       "1  nm0000002    Lauren Bacall      1924      2014      actress   soundtrack   \n",
       "2  nm0000003  Brigitte Bardot      1934        \\N      actress   soundtrack   \n",
       "3  nm0000004     John Belushi      1949      1982        actor   soundtrack   \n",
       "4  nm0000005   Ingmar Bergman      1918      2007       writer     director   \n",
       "\n",
       "       Profession_3    Title_1    Title_2    Title_3    Title_4 Title_5  \\\n",
       "0     miscellaneous  tt0031983  tt0053137  tt0050419  tt0072308    None   \n",
       "1              None  tt0038355  tt0117057  tt0037382  tt0071877    None   \n",
       "2  music_department  tt0049189  tt0054452  tt0056404  tt0057345    None   \n",
       "3            writer  tt0078723  tt0077975  tt0080455  tt0072562    None   \n",
       "4             actor  tt0050976  tt0083922  tt0060827  tt0050986    None   \n",
       "\n",
       "  Title_6  \n",
       "0    None  \n",
       "1    None  \n",
       "2    None  \n",
       "3    None  \n",
       "4    None  "
      ]
     },
     "execution_count": 11,
     "metadata": {},
     "output_type": "execute_result"
    }
   ],
   "source": [
    "name_basics = name_clean \n",
    "name_basics.head()"
   ]
  },
  {
   "cell_type": "markdown",
   "id": "ebcdfb65-65ad-4242-a30e-ca911a243242",
   "metadata": {},
   "source": [
    "#### Title Ratings "
   ]
  },
  {
   "cell_type": "code",
   "execution_count": 17,
   "id": "456c859f-b22e-4fc7-b714-e9c877ad0c5f",
   "metadata": {
    "tags": []
   },
   "outputs": [],
   "source": [
    "title_ratings = pd.read_csv('/Users/ali/Documents/University of Chicago/Data Engineering Platform for Analytics/Project/Datasets/title.ratings.tsv', sep='\\t', \n",
    "                 low_memory = False, skipinitialspace = True)"
   ]
  },
  {
   "cell_type": "code",
   "execution_count": 18,
   "id": "af37ec69-e994-4fb8-84b4-57e8737de5d6",
   "metadata": {
    "tags": []
   },
   "outputs": [
    {
     "data": {
      "text/html": [
       "<div>\n",
       "<style scoped>\n",
       "    .dataframe tbody tr th:only-of-type {\n",
       "        vertical-align: middle;\n",
       "    }\n",
       "\n",
       "    .dataframe tbody tr th {\n",
       "        vertical-align: top;\n",
       "    }\n",
       "\n",
       "    .dataframe thead th {\n",
       "        text-align: right;\n",
       "    }\n",
       "</style>\n",
       "<table border=\"1\" class=\"dataframe\">\n",
       "  <thead>\n",
       "    <tr style=\"text-align: right;\">\n",
       "      <th></th>\n",
       "      <th>tconst</th>\n",
       "      <th>averageRating</th>\n",
       "      <th>numVotes</th>\n",
       "    </tr>\n",
       "  </thead>\n",
       "  <tbody>\n",
       "    <tr>\n",
       "      <th>0</th>\n",
       "      <td>tt0000001</td>\n",
       "      <td>5.7</td>\n",
       "      <td>1834</td>\n",
       "    </tr>\n",
       "    <tr>\n",
       "      <th>1</th>\n",
       "      <td>tt0000002</td>\n",
       "      <td>6.0</td>\n",
       "      <td>236</td>\n",
       "    </tr>\n",
       "    <tr>\n",
       "      <th>2</th>\n",
       "      <td>tt0000003</td>\n",
       "      <td>6.5</td>\n",
       "      <td>1594</td>\n",
       "    </tr>\n",
       "    <tr>\n",
       "      <th>3</th>\n",
       "      <td>tt0000004</td>\n",
       "      <td>6.0</td>\n",
       "      <td>153</td>\n",
       "    </tr>\n",
       "    <tr>\n",
       "      <th>4</th>\n",
       "      <td>tt0000005</td>\n",
       "      <td>6.2</td>\n",
       "      <td>2410</td>\n",
       "    </tr>\n",
       "  </tbody>\n",
       "</table>\n",
       "</div>"
      ],
      "text/plain": [
       "      tconst  averageRating  numVotes\n",
       "0  tt0000001            5.7      1834\n",
       "1  tt0000002            6.0       236\n",
       "2  tt0000003            6.5      1594\n",
       "3  tt0000004            6.0       153\n",
       "4  tt0000005            6.2      2410"
      ]
     },
     "execution_count": 18,
     "metadata": {},
     "output_type": "execute_result"
    }
   ],
   "source": [
    "title_ratings.head()"
   ]
  },
  {
   "cell_type": "markdown",
   "id": "197133d6-1a15-44c7-9c9f-0b990cba6a58",
   "metadata": {},
   "source": [
    "**Looking at the length of values in the column tconst** "
   ]
  },
  {
   "cell_type": "code",
   "execution_count": 19,
   "id": "ec0b9fa5-024d-4a7b-8dcd-db354b94a190",
   "metadata": {},
   "outputs": [
    {
     "data": {
      "text/plain": [
       "9     1075838\n",
       "10     125198\n",
       "Name: tconst, dtype: int64"
      ]
     },
     "execution_count": 19,
     "metadata": {},
     "output_type": "execute_result"
    }
   ],
   "source": [
    "title_ratings.tconst.str.len().value_counts()"
   ]
  },
  {
   "cell_type": "markdown",
   "id": "4a7617a0-c4c4-4b61-b297-0eb6b723bf3d",
   "metadata": {},
   "source": [
    "**Looking at total number of distinct values**"
   ]
  },
  {
   "cell_type": "code",
   "execution_count": 20,
   "id": "f823bed6-169e-4757-9387-19a85cca4c97",
   "metadata": {},
   "outputs": [
    {
     "name": "stdout",
     "output_type": "stream",
     "text": [
      "1201036\n"
     ]
    }
   ],
   "source": [
    "li = list(title_ratings.tconst.value_counts())\n",
    "print(len(li))"
   ]
  },
  {
   "cell_type": "markdown",
   "id": "f315cc34-4f5f-4312-a56e-9a36e19d7e68",
   "metadata": {},
   "source": [
    "*The column tconst acts as a primary key for title_ratings and we do not need to split it further*"
   ]
  },
  {
   "cell_type": "markdown",
   "id": "14f5d3f9-c84e-4a0d-9885-af7c580b889c",
   "metadata": {},
   "source": [
    "#### Title Basics"
   ]
  },
  {
   "cell_type": "code",
   "execution_count": 21,
   "id": "e5df6243-c09a-4b96-9af4-abcd741e9e56",
   "metadata": {},
   "outputs": [],
   "source": [
    "title_basics_0 = pd.read_csv('/Users/ali/Documents/University of Chicago/Data Engineering Platform for Analytics/Project/Datasets/title.basics.tsv', sep='\\t', \n",
    "                 low_memory = False, skipinitialspace = True)"
   ]
  },
  {
   "cell_type": "code",
   "execution_count": 23,
   "id": "25d82abc-7301-47d8-b174-95d52cbd5ecb",
   "metadata": {},
   "outputs": [
    {
     "data": {
      "text/html": [
       "<div>\n",
       "<style scoped>\n",
       "    .dataframe tbody tr th:only-of-type {\n",
       "        vertical-align: middle;\n",
       "    }\n",
       "\n",
       "    .dataframe tbody tr th {\n",
       "        vertical-align: top;\n",
       "    }\n",
       "\n",
       "    .dataframe thead th {\n",
       "        text-align: right;\n",
       "    }\n",
       "</style>\n",
       "<table border=\"1\" class=\"dataframe\">\n",
       "  <thead>\n",
       "    <tr style=\"text-align: right;\">\n",
       "      <th></th>\n",
       "      <th>tconst</th>\n",
       "      <th>titleType</th>\n",
       "      <th>primaryTitle</th>\n",
       "      <th>originalTitle</th>\n",
       "      <th>isAdult</th>\n",
       "      <th>startYear</th>\n",
       "      <th>endYear</th>\n",
       "      <th>runtimeMinutes</th>\n",
       "      <th>genres</th>\n",
       "    </tr>\n",
       "  </thead>\n",
       "  <tbody>\n",
       "    <tr>\n",
       "      <th>0</th>\n",
       "      <td>tt0000001</td>\n",
       "      <td>short</td>\n",
       "      <td>Carmencita</td>\n",
       "      <td>Carmencita</td>\n",
       "      <td>0</td>\n",
       "      <td>1894</td>\n",
       "      <td>\\N</td>\n",
       "      <td>1</td>\n",
       "      <td>Documentary,Short</td>\n",
       "    </tr>\n",
       "    <tr>\n",
       "      <th>1</th>\n",
       "      <td>tt0000002</td>\n",
       "      <td>short</td>\n",
       "      <td>Le clown et ses chiens</td>\n",
       "      <td>Le clown et ses chiens</td>\n",
       "      <td>0</td>\n",
       "      <td>1892</td>\n",
       "      <td>\\N</td>\n",
       "      <td>5</td>\n",
       "      <td>Animation,Short</td>\n",
       "    </tr>\n",
       "    <tr>\n",
       "      <th>2</th>\n",
       "      <td>tt0000003</td>\n",
       "      <td>short</td>\n",
       "      <td>Pauvre Pierrot</td>\n",
       "      <td>Pauvre Pierrot</td>\n",
       "      <td>0</td>\n",
       "      <td>1892</td>\n",
       "      <td>\\N</td>\n",
       "      <td>4</td>\n",
       "      <td>Animation,Comedy,Romance</td>\n",
       "    </tr>\n",
       "    <tr>\n",
       "      <th>3</th>\n",
       "      <td>tt0000004</td>\n",
       "      <td>short</td>\n",
       "      <td>Un bon bock</td>\n",
       "      <td>Un bon bock</td>\n",
       "      <td>0</td>\n",
       "      <td>1892</td>\n",
       "      <td>\\N</td>\n",
       "      <td>12</td>\n",
       "      <td>Animation,Short</td>\n",
       "    </tr>\n",
       "    <tr>\n",
       "      <th>4</th>\n",
       "      <td>tt0000005</td>\n",
       "      <td>short</td>\n",
       "      <td>Blacksmith Scene</td>\n",
       "      <td>Blacksmith Scene</td>\n",
       "      <td>0</td>\n",
       "      <td>1893</td>\n",
       "      <td>\\N</td>\n",
       "      <td>1</td>\n",
       "      <td>Comedy,Short</td>\n",
       "    </tr>\n",
       "  </tbody>\n",
       "</table>\n",
       "</div>"
      ],
      "text/plain": [
       "      tconst titleType            primaryTitle           originalTitle  \\\n",
       "0  tt0000001     short              Carmencita              Carmencita   \n",
       "1  tt0000002     short  Le clown et ses chiens  Le clown et ses chiens   \n",
       "2  tt0000003     short          Pauvre Pierrot          Pauvre Pierrot   \n",
       "3  tt0000004     short             Un bon bock             Un bon bock   \n",
       "4  tt0000005     short        Blacksmith Scene        Blacksmith Scene   \n",
       "\n",
       "  isAdult startYear endYear runtimeMinutes                    genres  \n",
       "0       0      1894      \\N              1         Documentary,Short  \n",
       "1       0      1892      \\N              5           Animation,Short  \n",
       "2       0      1892      \\N              4  Animation,Comedy,Romance  \n",
       "3       0      1892      \\N             12           Animation,Short  \n",
       "4       0      1893      \\N              1              Comedy,Short  "
      ]
     },
     "execution_count": 23,
     "metadata": {},
     "output_type": "execute_result"
    }
   ],
   "source": [
    "title_basics_0.head()"
   ]
  },
  {
   "cell_type": "code",
   "execution_count": 26,
   "id": "7c10aa11-83a7-4c0e-8436-ca9f63e91a5a",
   "metadata": {},
   "outputs": [
    {
     "data": {
      "text/plain": [
       "(8419764, 9)"
      ]
     },
     "execution_count": 26,
     "metadata": {},
     "output_type": "execute_result"
    }
   ],
   "source": [
    "title_basics_0.shape"
   ]
  },
  {
   "cell_type": "code",
   "execution_count": 27,
   "id": "c308d632-f9ec-4eb4-ac67-438511fc5112",
   "metadata": {},
   "outputs": [],
   "source": [
    "title_basics = title_basics_0"
   ]
  },
  {
   "cell_type": "code",
   "execution_count": 28,
   "id": "63acf027-01f6-4ffd-8ddd-e0b16efec8c5",
   "metadata": {},
   "outputs": [
    {
     "data": {
      "image/png": "[encoded data removed]",
      "text/plain": [
       "<Figure size 1008x432 with 2 Axes>"
      ]
     },
     "metadata": {
      "needs_background": "light"
     },
     "output_type": "display_data"
    }
   ],
   "source": [
    "plt.figure(figsize=(14,6))\n",
    "sns.heatmap(title_basics.isnull())\n",
    "plt.show()"
   ]
  },
  {
   "cell_type": "markdown",
   "id": "789f4d98-3c8e-413e-ad02-4a0a59e56e0c",
   "metadata": {},
   "source": [
    "#### Title Principals"
   ]
  },
  {
   "cell_type": "code",
   "execution_count": null,
   "id": "4832d066-1b04-4727-a06a-668490726804",
   "metadata": {},
   "outputs": [],
   "source": []
  }
 ],
 "metadata": {
  "kernelspec": {
   "display_name": "Python 3",
   "language": "python",
   "name": "python3"
  },
  "language_info": {
   "codemirror_mode": {
    "name": "ipython",
    "version": 3
   },
   "file_extension": ".py",
   "mimetype": "text/x-python",
   "name": "python",
   "nbconvert_exporter": "python",
   "pygments_lexer": "ipython3",
   "version": "3.8.8"
  }
 },
 "nbformat": 4,
 "nbformat_minor": 5
}
